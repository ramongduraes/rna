{
 "cells": [
  {
   "cell_type": "markdown",
   "metadata": {},
   "source": [
    "# Datasets"
   ]
  },
  {
   "cell_type": "markdown",
   "metadata": {},
   "source": [
    "## Hyperplane"
   ]
  },
  {
   "cell_type": "code",
   "execution_count": 1,
   "metadata": {},
   "outputs": [
    {
     "data": {
      "text/html": [
       "<table>\n",
       "<thead><tr><th scope=col>X1.000000</th><th scope=col>X0.093868</th><th scope=col>X0.161024</th><th scope=col>X0.042891</th><th scope=col>X0.193369</th><th scope=col>X0.259702</th><th scope=col>X0.238029</th><th scope=col>X0.288670</th><th scope=col>X0.088480</th><th scope=col>X0.015798</th><th scope=col>X0.208414</th><th scope=col>X.1</th></tr></thead>\n",
       "<tbody>\n",
       "\t<tr><td>1       </td><td>0.075217</td><td>0.220267</td><td>0.313818</td><td>0.047938</td><td>0.287715</td><td>0.124056</td><td>0.174504</td><td>0.000452</td><td>0.307160</td><td>0.161264</td><td> 1      </td></tr>\n",
       "\t<tr><td>1       </td><td>0.252066</td><td>0.208755</td><td>0.101923</td><td>0.101454</td><td>0.077649</td><td>0.181364</td><td>0.041195</td><td>0.192161</td><td>0.300272</td><td>0.089829</td><td> 1      </td></tr>\n",
       "\t<tr><td>1       </td><td>0.291396</td><td>0.156596</td><td>0.218785</td><td>0.283576</td><td>0.073750</td><td>0.163271</td><td>0.024358</td><td>0.178220</td><td>0.272331</td><td>0.053795</td><td> 1      </td></tr>\n",
       "\t<tr><td>1       </td><td>0.084042</td><td>0.271118</td><td>0.044451</td><td>0.332682</td><td>0.078608</td><td>0.201786</td><td>0.179113</td><td>0.028998</td><td>0.028107</td><td>0.317181</td><td>-1      </td></tr>\n",
       "\t<tr><td>1       </td><td>0.134254</td><td>0.004762</td><td>0.193916</td><td>0.255062</td><td>0.331085</td><td>0.286490</td><td>0.315566</td><td>0.127973</td><td>0.251799</td><td>0.265944</td><td> 1      </td></tr>\n",
       "\t<tr><td>1       </td><td>0.087275</td><td>0.050349</td><td>0.071625</td><td>0.183312</td><td>0.064059</td><td>0.328955</td><td>0.314787</td><td>0.001371</td><td>0.215628</td><td>0.210916</td><td>-1      </td></tr>\n",
       "</tbody>\n",
       "</table>\n"
      ],
      "text/latex": [
       "\\begin{tabular}{r|llllllllllll}\n",
       " X1.000000 & X0.093868 & X0.161024 & X0.042891 & X0.193369 & X0.259702 & X0.238029 & X0.288670 & X0.088480 & X0.015798 & X0.208414 & X.1\\\\\n",
       "\\hline\n",
       "\t 1        & 0.075217 & 0.220267 & 0.313818 & 0.047938 & 0.287715 & 0.124056 & 0.174504 & 0.000452 & 0.307160 & 0.161264 &  1      \\\\\n",
       "\t 1        & 0.252066 & 0.208755 & 0.101923 & 0.101454 & 0.077649 & 0.181364 & 0.041195 & 0.192161 & 0.300272 & 0.089829 &  1      \\\\\n",
       "\t 1        & 0.291396 & 0.156596 & 0.218785 & 0.283576 & 0.073750 & 0.163271 & 0.024358 & 0.178220 & 0.272331 & 0.053795 &  1      \\\\\n",
       "\t 1        & 0.084042 & 0.271118 & 0.044451 & 0.332682 & 0.078608 & 0.201786 & 0.179113 & 0.028998 & 0.028107 & 0.317181 & -1      \\\\\n",
       "\t 1        & 0.134254 & 0.004762 & 0.193916 & 0.255062 & 0.331085 & 0.286490 & 0.315566 & 0.127973 & 0.251799 & 0.265944 &  1      \\\\\n",
       "\t 1        & 0.087275 & 0.050349 & 0.071625 & 0.183312 & 0.064059 & 0.328955 & 0.314787 & 0.001371 & 0.215628 & 0.210916 & -1      \\\\\n",
       "\\end{tabular}\n"
      ],
      "text/markdown": [
       "\n",
       "| X1.000000 | X0.093868 | X0.161024 | X0.042891 | X0.193369 | X0.259702 | X0.238029 | X0.288670 | X0.088480 | X0.015798 | X0.208414 | X.1 |\n",
       "|---|---|---|---|---|---|---|---|---|---|---|---|\n",
       "| 1        | 0.075217 | 0.220267 | 0.313818 | 0.047938 | 0.287715 | 0.124056 | 0.174504 | 0.000452 | 0.307160 | 0.161264 |  1       |\n",
       "| 1        | 0.252066 | 0.208755 | 0.101923 | 0.101454 | 0.077649 | 0.181364 | 0.041195 | 0.192161 | 0.300272 | 0.089829 |  1       |\n",
       "| 1        | 0.291396 | 0.156596 | 0.218785 | 0.283576 | 0.073750 | 0.163271 | 0.024358 | 0.178220 | 0.272331 | 0.053795 |  1       |\n",
       "| 1        | 0.084042 | 0.271118 | 0.044451 | 0.332682 | 0.078608 | 0.201786 | 0.179113 | 0.028998 | 0.028107 | 0.317181 | -1       |\n",
       "| 1        | 0.134254 | 0.004762 | 0.193916 | 0.255062 | 0.331085 | 0.286490 | 0.315566 | 0.127973 | 0.251799 | 0.265944 |  1       |\n",
       "| 1        | 0.087275 | 0.050349 | 0.071625 | 0.183312 | 0.064059 | 0.328955 | 0.314787 | 0.001371 | 0.215628 | 0.210916 | -1       |\n",
       "\n"
      ],
      "text/plain": [
       "  X1.000000 X0.093868 X0.161024 X0.042891 X0.193369 X0.259702 X0.238029\n",
       "1 1         0.075217  0.220267  0.313818  0.047938  0.287715  0.124056 \n",
       "2 1         0.252066  0.208755  0.101923  0.101454  0.077649  0.181364 \n",
       "3 1         0.291396  0.156596  0.218785  0.283576  0.073750  0.163271 \n",
       "4 1         0.084042  0.271118  0.044451  0.332682  0.078608  0.201786 \n",
       "5 1         0.134254  0.004762  0.193916  0.255062  0.331085  0.286490 \n",
       "6 1         0.087275  0.050349  0.071625  0.183312  0.064059  0.328955 \n",
       "  X0.288670 X0.088480 X0.015798 X0.208414 X.1\n",
       "1 0.174504  0.000452  0.307160  0.161264   1 \n",
       "2 0.041195  0.192161  0.300272  0.089829   1 \n",
       "3 0.024358  0.178220  0.272331  0.053795   1 \n",
       "4 0.179113  0.028998  0.028107  0.317181  -1 \n",
       "5 0.315566  0.127973  0.251799  0.265944   1 \n",
       "6 0.314787  0.001371  0.215628  0.210916  -1 "
      ]
     },
     "metadata": {},
     "output_type": "display_data"
    }
   ],
   "source": [
    "X <- read.csv('./data/X_hyperplane.txt')\n",
    "y <- read.csv('./data/y_hyperplane.txt')\n",
    "\n",
    "hyperplane <- cbind(X,y)\n",
    "head(hyperplane)"
   ]
  },
  {
   "cell_type": "code",
   "execution_count": 2,
   "metadata": {},
   "outputs": [],
   "source": [
    "hyperplane$class <- 1\n",
    "hyperplane$class[hyperplane$X.1 == -1] <- 0\n",
    "hyperplane <- hyperplane[,-12]"
   ]
  },
  {
   "cell_type": "code",
   "execution_count": 3,
   "metadata": {},
   "outputs": [
    {
     "data": {
      "text/html": [
       "<table>\n",
       "<thead><tr><th scope=col>X1.000000</th><th scope=col>X0.093868</th><th scope=col>X0.161024</th><th scope=col>X0.042891</th><th scope=col>X0.193369</th><th scope=col>X0.259702</th><th scope=col>X0.238029</th><th scope=col>X0.288670</th><th scope=col>X0.088480</th><th scope=col>X0.015798</th><th scope=col>X0.208414</th><th scope=col>class</th></tr></thead>\n",
       "<tbody>\n",
       "\t<tr><td>1       </td><td>0.075217</td><td>0.220267</td><td>0.313818</td><td>0.047938</td><td>0.287715</td><td>0.124056</td><td>0.174504</td><td>0.000452</td><td>0.307160</td><td>0.161264</td><td>1       </td></tr>\n",
       "\t<tr><td>1       </td><td>0.252066</td><td>0.208755</td><td>0.101923</td><td>0.101454</td><td>0.077649</td><td>0.181364</td><td>0.041195</td><td>0.192161</td><td>0.300272</td><td>0.089829</td><td>1       </td></tr>\n",
       "\t<tr><td>1       </td><td>0.291396</td><td>0.156596</td><td>0.218785</td><td>0.283576</td><td>0.073750</td><td>0.163271</td><td>0.024358</td><td>0.178220</td><td>0.272331</td><td>0.053795</td><td>1       </td></tr>\n",
       "\t<tr><td>1       </td><td>0.084042</td><td>0.271118</td><td>0.044451</td><td>0.332682</td><td>0.078608</td><td>0.201786</td><td>0.179113</td><td>0.028998</td><td>0.028107</td><td>0.317181</td><td>0       </td></tr>\n",
       "\t<tr><td>1       </td><td>0.134254</td><td>0.004762</td><td>0.193916</td><td>0.255062</td><td>0.331085</td><td>0.286490</td><td>0.315566</td><td>0.127973</td><td>0.251799</td><td>0.265944</td><td>1       </td></tr>\n",
       "\t<tr><td>1       </td><td>0.087275</td><td>0.050349</td><td>0.071625</td><td>0.183312</td><td>0.064059</td><td>0.328955</td><td>0.314787</td><td>0.001371</td><td>0.215628</td><td>0.210916</td><td>0       </td></tr>\n",
       "</tbody>\n",
       "</table>\n"
      ],
      "text/latex": [
       "\\begin{tabular}{r|llllllllllll}\n",
       " X1.000000 & X0.093868 & X0.161024 & X0.042891 & X0.193369 & X0.259702 & X0.238029 & X0.288670 & X0.088480 & X0.015798 & X0.208414 & class\\\\\n",
       "\\hline\n",
       "\t 1        & 0.075217 & 0.220267 & 0.313818 & 0.047938 & 0.287715 & 0.124056 & 0.174504 & 0.000452 & 0.307160 & 0.161264 & 1       \\\\\n",
       "\t 1        & 0.252066 & 0.208755 & 0.101923 & 0.101454 & 0.077649 & 0.181364 & 0.041195 & 0.192161 & 0.300272 & 0.089829 & 1       \\\\\n",
       "\t 1        & 0.291396 & 0.156596 & 0.218785 & 0.283576 & 0.073750 & 0.163271 & 0.024358 & 0.178220 & 0.272331 & 0.053795 & 1       \\\\\n",
       "\t 1        & 0.084042 & 0.271118 & 0.044451 & 0.332682 & 0.078608 & 0.201786 & 0.179113 & 0.028998 & 0.028107 & 0.317181 & 0       \\\\\n",
       "\t 1        & 0.134254 & 0.004762 & 0.193916 & 0.255062 & 0.331085 & 0.286490 & 0.315566 & 0.127973 & 0.251799 & 0.265944 & 1       \\\\\n",
       "\t 1        & 0.087275 & 0.050349 & 0.071625 & 0.183312 & 0.064059 & 0.328955 & 0.314787 & 0.001371 & 0.215628 & 0.210916 & 0       \\\\\n",
       "\\end{tabular}\n"
      ],
      "text/markdown": [
       "\n",
       "| X1.000000 | X0.093868 | X0.161024 | X0.042891 | X0.193369 | X0.259702 | X0.238029 | X0.288670 | X0.088480 | X0.015798 | X0.208414 | class |\n",
       "|---|---|---|---|---|---|---|---|---|---|---|---|\n",
       "| 1        | 0.075217 | 0.220267 | 0.313818 | 0.047938 | 0.287715 | 0.124056 | 0.174504 | 0.000452 | 0.307160 | 0.161264 | 1        |\n",
       "| 1        | 0.252066 | 0.208755 | 0.101923 | 0.101454 | 0.077649 | 0.181364 | 0.041195 | 0.192161 | 0.300272 | 0.089829 | 1        |\n",
       "| 1        | 0.291396 | 0.156596 | 0.218785 | 0.283576 | 0.073750 | 0.163271 | 0.024358 | 0.178220 | 0.272331 | 0.053795 | 1        |\n",
       "| 1        | 0.084042 | 0.271118 | 0.044451 | 0.332682 | 0.078608 | 0.201786 | 0.179113 | 0.028998 | 0.028107 | 0.317181 | 0        |\n",
       "| 1        | 0.134254 | 0.004762 | 0.193916 | 0.255062 | 0.331085 | 0.286490 | 0.315566 | 0.127973 | 0.251799 | 0.265944 | 1        |\n",
       "| 1        | 0.087275 | 0.050349 | 0.071625 | 0.183312 | 0.064059 | 0.328955 | 0.314787 | 0.001371 | 0.215628 | 0.210916 | 0        |\n",
       "\n"
      ],
      "text/plain": [
       "  X1.000000 X0.093868 X0.161024 X0.042891 X0.193369 X0.259702 X0.238029\n",
       "1 1         0.075217  0.220267  0.313818  0.047938  0.287715  0.124056 \n",
       "2 1         0.252066  0.208755  0.101923  0.101454  0.077649  0.181364 \n",
       "3 1         0.291396  0.156596  0.218785  0.283576  0.073750  0.163271 \n",
       "4 1         0.084042  0.271118  0.044451  0.332682  0.078608  0.201786 \n",
       "5 1         0.134254  0.004762  0.193916  0.255062  0.331085  0.286490 \n",
       "6 1         0.087275  0.050349  0.071625  0.183312  0.064059  0.328955 \n",
       "  X0.288670 X0.088480 X0.015798 X0.208414 class\n",
       "1 0.174504  0.000452  0.307160  0.161264  1    \n",
       "2 0.041195  0.192161  0.300272  0.089829  1    \n",
       "3 0.024358  0.178220  0.272331  0.053795  1    \n",
       "4 0.179113  0.028998  0.028107  0.317181  0    \n",
       "5 0.315566  0.127973  0.251799  0.265944  1    \n",
       "6 0.314787  0.001371  0.215628  0.210916  0    "
      ]
     },
     "metadata": {},
     "output_type": "display_data"
    }
   ],
   "source": [
    "head(hyperplane)"
   ]
  },
  {
   "cell_type": "markdown",
   "metadata": {},
   "source": [
    "## Electricity "
   ]
  },
  {
   "cell_type": "code",
   "execution_count": 4,
   "metadata": {},
   "outputs": [
    {
     "data": {
      "text/html": [
       "<table>\n",
       "<thead><tr><th scope=col>1</th><th scope=col>nswprice</th><th scope=col>nswdemand</th><th scope=col>vicprice</th><th scope=col>vicdemand</th><th scope=col>transfer</th><th scope=col>num_class</th></tr></thead>\n",
       "<tbody>\n",
       "\t<tr><td>1       </td><td>0.056443</td><td>0.439155</td><td>0.003467</td><td>0.422915</td><td>0.414912</td><td>1       </td></tr>\n",
       "\t<tr><td>1       </td><td>0.051699</td><td>0.415055</td><td>0.003467</td><td>0.422915</td><td>0.414912</td><td>1       </td></tr>\n",
       "\t<tr><td>1       </td><td>0.051489</td><td>0.385004</td><td>0.003467</td><td>0.422915</td><td>0.414912</td><td>1       </td></tr>\n",
       "\t<tr><td>1       </td><td>0.045485</td><td>0.314639</td><td>0.003467</td><td>0.422915</td><td>0.414912</td><td>1       </td></tr>\n",
       "\t<tr><td>1       </td><td>0.042482</td><td>0.251116</td><td>0.003467</td><td>0.422915</td><td>0.414912</td><td>0       </td></tr>\n",
       "\t<tr><td>1       </td><td>0.041161</td><td>0.207528</td><td>0.003467</td><td>0.422915</td><td>0.414912</td><td>0       </td></tr>\n",
       "</tbody>\n",
       "</table>\n"
      ],
      "text/latex": [
       "\\begin{tabular}{r|lllllll}\n",
       " 1 & nswprice & nswdemand & vicprice & vicdemand & transfer & num\\_class\\\\\n",
       "\\hline\n",
       "\t 1        & 0.056443 & 0.439155 & 0.003467 & 0.422915 & 0.414912 & 1       \\\\\n",
       "\t 1        & 0.051699 & 0.415055 & 0.003467 & 0.422915 & 0.414912 & 1       \\\\\n",
       "\t 1        & 0.051489 & 0.385004 & 0.003467 & 0.422915 & 0.414912 & 1       \\\\\n",
       "\t 1        & 0.045485 & 0.314639 & 0.003467 & 0.422915 & 0.414912 & 1       \\\\\n",
       "\t 1        & 0.042482 & 0.251116 & 0.003467 & 0.422915 & 0.414912 & 0       \\\\\n",
       "\t 1        & 0.041161 & 0.207528 & 0.003467 & 0.422915 & 0.414912 & 0       \\\\\n",
       "\\end{tabular}\n"
      ],
      "text/markdown": [
       "\n",
       "| 1 | nswprice | nswdemand | vicprice | vicdemand | transfer | num_class |\n",
       "|---|---|---|---|---|---|---|\n",
       "| 1        | 0.056443 | 0.439155 | 0.003467 | 0.422915 | 0.414912 | 1        |\n",
       "| 1        | 0.051699 | 0.415055 | 0.003467 | 0.422915 | 0.414912 | 1        |\n",
       "| 1        | 0.051489 | 0.385004 | 0.003467 | 0.422915 | 0.414912 | 1        |\n",
       "| 1        | 0.045485 | 0.314639 | 0.003467 | 0.422915 | 0.414912 | 1        |\n",
       "| 1        | 0.042482 | 0.251116 | 0.003467 | 0.422915 | 0.414912 | 0        |\n",
       "| 1        | 0.041161 | 0.207528 | 0.003467 | 0.422915 | 0.414912 | 0        |\n",
       "\n"
      ],
      "text/plain": [
       "  1 nswprice nswdemand vicprice vicdemand transfer num_class\n",
       "1 1 0.056443 0.439155  0.003467 0.422915  0.414912 1        \n",
       "2 1 0.051699 0.415055  0.003467 0.422915  0.414912 1        \n",
       "3 1 0.051489 0.385004  0.003467 0.422915  0.414912 1        \n",
       "4 1 0.045485 0.314639  0.003467 0.422915  0.414912 1        \n",
       "5 1 0.042482 0.251116  0.003467 0.422915  0.414912 0        \n",
       "6 1 0.041161 0.207528  0.003467 0.422915  0.414912 0        "
      ]
     },
     "metadata": {},
     "output_type": "display_data"
    }
   ],
   "source": [
    "library('foreign')\n",
    "electricity <- read.arff(\"./data/elecNormNew.arff\")\n",
    "\n",
    "# Adding bias unit\n",
    "electricity <- cbind(1, electricity)\n",
    "# Removing categorical variables\n",
    "electricity <- electricity[,-c(2,3,4)]\n",
    "# Coding classes\n",
    "electricity$num_class <- 1\n",
    "electricity$num_class[electricity$class == \"DOWN\"] <- 0\n",
    "electricity <- electricity[,-7]\n",
    "head(electricity)"
   ]
  },
  {
   "cell_type": "markdown",
   "metadata": {},
   "source": [
    "## SEA dataset"
   ]
  },
  {
   "cell_type": "code",
   "execution_count": 5,
   "metadata": {},
   "outputs": [],
   "source": [
    "range01 <- function(x, ...){(x - min(x, ...)) / (max(x, ...) - min(x, ...))}"
   ]
  },
  {
   "cell_type": "code",
   "execution_count": 6,
   "metadata": {},
   "outputs": [
    {
     "data": {
      "text/html": [
       "<table>\n",
       "<thead><tr><th scope=col>1</th><th scope=col>X6.677259</th><th scope=col>X5.152133</th><th scope=col>X2.982455</th><th scope=col>X0</th></tr></thead>\n",
       "<tbody>\n",
       "\t<tr><td>1         </td><td>0.9874447 </td><td>0.88178658</td><td>0.4786209 </td><td>1         </td></tr>\n",
       "\t<tr><td>1         </td><td>0.7118724 </td><td>0.29905073</td><td>0.1964257 </td><td>0         </td></tr>\n",
       "\t<tr><td>1         </td><td>0.6128240 </td><td>0.84498461</td><td>0.2604282 </td><td>1         </td></tr>\n",
       "\t<tr><td>1         </td><td>0.7592624 </td><td>0.08596923</td><td>0.5763134 </td><td>0         </td></tr>\n",
       "\t<tr><td>1         </td><td>0.1255047 </td><td>0.59241094</td><td>0.8626984 </td><td>1         </td></tr>\n",
       "\t<tr><td>1         </td><td>0.7816038 </td><td>0.10678796</td><td>0.8051763 </td><td>1         </td></tr>\n",
       "</tbody>\n",
       "</table>\n"
      ],
      "text/latex": [
       "\\begin{tabular}{r|lllll}\n",
       " 1 & X6.677259 & X5.152133 & X2.982455 & X0\\\\\n",
       "\\hline\n",
       "\t 1          & 0.9874447  & 0.88178658 & 0.4786209  & 1         \\\\\n",
       "\t 1          & 0.7118724  & 0.29905073 & 0.1964257  & 0         \\\\\n",
       "\t 1          & 0.6128240  & 0.84498461 & 0.2604282  & 1         \\\\\n",
       "\t 1          & 0.7592624  & 0.08596923 & 0.5763134  & 0         \\\\\n",
       "\t 1          & 0.1255047  & 0.59241094 & 0.8626984  & 1         \\\\\n",
       "\t 1          & 0.7816038  & 0.10678796 & 0.8051763  & 1         \\\\\n",
       "\\end{tabular}\n"
      ],
      "text/markdown": [
       "\n",
       "| 1 | X6.677259 | X5.152133 | X2.982455 | X0 |\n",
       "|---|---|---|---|---|\n",
       "| 1          | 0.9874447  | 0.88178658 | 0.4786209  | 1          |\n",
       "| 1          | 0.7118724  | 0.29905073 | 0.1964257  | 0          |\n",
       "| 1          | 0.6128240  | 0.84498461 | 0.2604282  | 1          |\n",
       "| 1          | 0.7592624  | 0.08596923 | 0.5763134  | 0          |\n",
       "| 1          | 0.1255047  | 0.59241094 | 0.8626984  | 1          |\n",
       "| 1          | 0.7816038  | 0.10678796 | 0.8051763  | 1          |\n",
       "\n"
      ],
      "text/plain": [
       "  1 X6.677259 X5.152133  X2.982455 X0\n",
       "1 1 0.9874447 0.88178658 0.4786209 1 \n",
       "2 1 0.7118724 0.29905073 0.1964257 0 \n",
       "3 1 0.6128240 0.84498461 0.2604282 1 \n",
       "4 1 0.7592624 0.08596923 0.5763134 0 \n",
       "5 1 0.1255047 0.59241094 0.8626984 1 \n",
       "6 1 0.7816038 0.10678796 0.8051763 1 "
      ]
     },
     "metadata": {},
     "output_type": "display_data"
    }
   ],
   "source": [
    "sea <- read.csv('./data/sea.data')\n",
    "for (f in seq(3)){\n",
    "    sea[,f] <- range01(sea[,f])\n",
    "}\n",
    "sea <- cbind(1,sea)\n",
    "head(sea)"
   ]
  },
  {
   "cell_type": "markdown",
   "metadata": {},
   "source": [
    "# Algorithm"
   ]
  },
  {
   "cell_type": "code",
   "execution_count": 7,
   "metadata": {},
   "outputs": [
    {
     "name": "stderr",
     "output_type": "stream",
     "text": [
      "Loading required package: Rcpp\n"
     ]
    }
   ],
   "source": [
    "library('RSNNS')"
   ]
  },
  {
   "cell_type": "markdown",
   "metadata": {},
   "source": [
    "## Data Batch"
   ]
  },
  {
   "cell_type": "code",
   "execution_count": 8,
   "metadata": {},
   "outputs": [],
   "source": [
    "models <- list(list(\"c\", 10))"
   ]
  },
  {
   "cell_type": "code",
   "execution_count": 9,
   "metadata": {},
   "outputs": [],
   "source": [
    "l <- list(1, 40, 102, 12, 34)"
   ]
  },
  {
   "cell_type": "code",
   "execution_count": 10,
   "metadata": {},
   "outputs": [],
   "source": [
    "models[[1]] <- list(\"c\", 10)"
   ]
  },
  {
   "cell_type": "code",
   "execution_count": 11,
   "metadata": {},
   "outputs": [
    {
     "data": {
      "text/html": [
       "10"
      ],
      "text/latex": [
       "10"
      ],
      "text/markdown": [
       "10"
      ],
      "text/plain": [
       "[1] 10"
      ]
     },
     "metadata": {},
     "output_type": "display_data"
    }
   ],
   "source": [
    "models[[1]][[2]]"
   ]
  },
  {
   "cell_type": "markdown",
   "metadata": {},
   "source": [
    "lists.append(models, 10)\n",
    "\n",
    "m <- list(single_model)\n",
    "\n",
    "m[[1]]\n",
    "\n",
    "which.min(35 - unlist(l))"
   ]
  },
  {
   "cell_type": "code",
   "execution_count": 37,
   "metadata": {},
   "outputs": [],
   "source": [
    "model_pool <- function(data, max_drift_perc, max_drift, batch_size, hidden_layer_size, n_repetitions){\n",
    "    results <- list()\n",
    "    for(rep in seq(n_repetitions)){\n",
    "        # Initializing Variables\n",
    "        models <- list()\n",
    "        models_drift <- list()\n",
    "        n <- dim(data)[1]\n",
    "        m <- dim(data)[2]\n",
    "        n_classes <- length(unique(data[,m]))\n",
    "        n_batches <- ceiling(n / batch_size)\n",
    "        drift_vec <- matrix(0, ncol=1, nrow=n_batches-1)\n",
    "        if(n_batches < 1){\n",
    "            stop(\"Batch size bigger than data size.\")\n",
    "        }\n",
    "        data_stats <- array(0, c(3, m-1, n_classes, n_batches))\n",
    "        sm_pred <- matrix(0, ncol=1, nrow=n_batches)\n",
    "        pred <- matrix(0, ncol=1, nrow=n_batches)\n",
    "\n",
    "        # Main iteration over data batches\n",
    "        for(iteration in seq(n_batches)){\n",
    "            beginning <- (iteration - 1) * batch_size + 1\n",
    "            if(beginning > n){\n",
    "                stop(\"Data batch indices exceed limits.\")\n",
    "            }\n",
    "            end <- iteration * batch_size\n",
    "            if (end >= n){\n",
    "                end <- n\n",
    "                end_of_data <- TRUE\n",
    "            }\n",
    "            batch <- data[beginning:end,]\n",
    "\n",
    "            # Evaluate presence of concept drift\n",
    "            # Calculate data stats\n",
    "            for(f in seq(1,m-1)){\n",
    "                for(c in seq(n_classes)){\n",
    "                    class_batch <- batch[batch[,m]==c-1,f]\n",
    "                    data_stats[1,f,c,iteration] <- min(class_batch)\n",
    "                    data_stats[2,f,c,iteration] <- mean(class_batch)\n",
    "                    data_stats[3,f,c,iteration] <- max(class_batch)\n",
    "                }\n",
    "            }\n",
    "            # First iteration trains the first model\n",
    "            if(iteration == 1){\n",
    "                single_model <- mlp(x = batch[,1:m-1], y = batch[,m], size=c(hidden_layer_size))\n",
    "            } else if(iteration ==2){\n",
    "                sm_pred[iteration-1] <- sum((1 * (predict(single_model, batch[,-m])>0.5)) == batch[,m]) / batch_size\n",
    "                pred <- sm_pred\n",
    "                drift_vec[iteration-1] <- sum(abs(prev_data_stats - data_stats)) / ( n_classes)\n",
    "                models[[iteration-1]] <- single_model\n",
    "                models_drift[iteration-1] <- drift_vec[iteration-1]\n",
    "            } else { \n",
    "                # If not the first iteration, compare with previous values\n",
    "                sm_pred[iteration-1] <- sum((1 * (predict(single_model, batch[,-m])>0.5)) == batch[,m]) / batch_size\n",
    "                # Calculates drift\n",
    "                drift_vec[iteration-1] <- sum(abs(prev_data_stats - data_stats)) / ( n_classes)\n",
    "                # Tries to get an adequate model\n",
    "                min_diff <- min(abs(drift_vec[iteration-1] - unlist(models_drift)))\n",
    "                idx <- which.min(drift_vec[iteration-1] - unlist(models_drift))\n",
    "\n",
    "                # If drift difference below threshold, use the best model\n",
    "                if(min_diff < max_drift){\n",
    "                    pred[iteration-1] <- sum((1 * (predict(models[[idx]], batch[,-m])>0.5)) == batch[,m]) / batch_size\n",
    "                } else {\n",
    "                    models[[length(models) + 1]] <- mlp(x = batch[,1:m-1], y = batch[,m], size=c(hidden_layer_size))\n",
    "                    models_drift[[length(models)]] <- drift_vec[iteration-1]\n",
    "                    pred[iteration-1] <- sum((1 * (predict(models[[length(models)]], batch[,-m])>0.5)) == batch[,m]) / batch_size\n",
    "                }\n",
    "            }\n",
    "            prev_data_stats <- data_stats\n",
    "        }\n",
    "        results[[rep]] <- list(\"pred\"=pred, \"sm_pred\"=sm_pred, \"n_models\"=length(models))\n",
    "    }\n",
    "    return(results)\n",
    "}"
   ]
  },
  {
   "cell_type": "code",
   "execution_count": 40,
   "metadata": {},
   "outputs": [
    {
     "ename": "ERROR",
     "evalue": "Error in eval(expr, envir, enclos): object 'sm_pred_std' not found\n",
     "output_type": "error",
     "traceback": [
      "Error in eval(expr, envir, enclos): object 'sm_pred_std' not found\nTraceback:\n"
     ]
    }
   ],
   "source": [
    "# Parameters\n",
    "data <- hyperplane\n",
    "max_drift_perc <- 1 # 100 percent of the first drift value\n",
    "max_drift <- 2\n",
    "batch_size <- 150\n",
    "hidden_layer_size <- 6\n",
    "n_repetitions <- 2\n",
    "\n",
    "results <- model_pool(data=hyperplane, \n",
    "                      max_drift_perc=max_drift_perc, \n",
    "                      max_drift=max_drift, \n",
    "                      batch_size=batch_size, \n",
    "                      hidden_layer_size=hidden_layer_size, \n",
    "                      n_repetitions=n_repetitions)\n",
    "\n",
    "pred_std <- matrix(0, nrow=n_repetitions, ncol=1)\n",
    "n_models <- matrix(0, nrow=n_repetitions, ncol=1)\n",
    "for (l in seq(n_repetitions)){\n",
    "    sm_pred_std[l] <- mean(results[[l]]$sm_pred)\n",
    "    pred_std[l] <- mean(results[[l]]$pred)\n",
    "    n_models <- results[[l]]$n_models\n",
    "}\n",
    "cat(paste0(\"\\nMean number of models:\", \n",
    "           mean(n_models), \n",
    "           \"\\nMean accuracy:\", \n",
    "           mean(pred_std), \n",
    "           \"\\nAccuracy std:\", \n",
    "           sd(pred_std),\n",
    "           \"\\nSM:\",\n",
    "           mean(sm_pred_std),\n",
    "           \"\\nSM std:\",\n",
    "           sd(sm_pred_std)))"
   ]
  },
  {
   "cell_type": "code",
   "execution_count": 34,
   "metadata": {},
   "outputs": [
    {
     "data": {
      "text/html": [
       "67"
      ],
      "text/latex": [
       "67"
      ],
      "text/markdown": [
       "67"
      ],
      "text/plain": [
       "[1] 67"
      ]
     },
     "metadata": {},
     "output_type": "display_data"
    }
   ],
   "source": [
    "length(results[[1]]$pred)"
   ]
  },
  {
   "cell_type": "code",
   "execution_count": 32,
   "metadata": {},
   "outputs": [
    {
     "data": {
      "text/html": [
       "2"
      ],
      "text/latex": [
       "2"
      ],
      "text/markdown": [
       "2"
      ],
      "text/plain": [
       "[1] 2"
      ]
     },
     "metadata": {},
     "output_type": "display_data"
    }
   ],
   "source": [
    "for (l in seq(n_repetitions)){\n",
    "    results[[l]]$pred\n",
    "}"
   ]
  },
  {
   "cell_type": "code",
   "execution_count": 17,
   "metadata": {},
   "outputs": [],
   "source": [
    "# Parameters\n",
    "data <- hyperplane\n",
    "max_drift_perc <- 1 # 100 percent of the first drift value\n",
    "max_drift <- 2\n",
    "batch_size <- 150\n",
    "\n",
    "# Initializing Variables\n",
    "models <- list()\n",
    "models_drift <- list()\n",
    "n <- dim(data)[1]\n",
    "m <- dim(data)[2]\n",
    "n_classes <- length(unique(data[,m]))\n",
    "n_batches <- ceiling(n / batch_size)\n",
    "drift_vec <- matrix(0, ncol=1, nrow=n_batches-1)\n",
    "if(n_batches < 1){\n",
    "    stop(\"Batch size bigger than data size.\")\n",
    "}\n",
    "data_stats <- array(0, c(3, m-1, n_classes, n_batches))\n",
    "sm_pred <- matrix(0, ncol=1, nrow=n_batches)\n",
    "pred <- matrix(0, ncol=1, nrow=n_batches)\n",
    "\n",
    "# Main iteration over data batches\n",
    "for(iteration in seq(n_batches)){\n",
    "    beginning <- (iteration - 1) * batch_size + 1\n",
    "    if(beginning > n){\n",
    "        stop(\"Data batch indices exceed limits.\")\n",
    "    }\n",
    "    end <- iteration * batch_size\n",
    "    if (end >= n){\n",
    "        end <- n\n",
    "        end_of_data <- TRUE\n",
    "    }\n",
    "    batch <- data[beginning:end,]\n",
    "    \n",
    "    # Evaluate presence of concept drift\n",
    "    # Calculate data stats\n",
    "    for(f in seq(1,m-1)){\n",
    "        for(c in seq(n_classes)){\n",
    "            class_batch <- batch[batch[,m]==c-1,f]\n",
    "            data_stats[1,f,c,iteration] <- min(class_batch)\n",
    "            data_stats[2,f,c,iteration] <- mean(class_batch)\n",
    "            data_stats[3,f,c,iteration] <- max(class_batch)\n",
    "        }\n",
    "    }\n",
    "    \n",
    "    if(iteration == 1){\n",
    "        single_model <- mlp(x = batch[,1:m-1], y = batch[,m], size=c(8))\n",
    "    } else if(iteration ==2){\n",
    "        sm_pred[iteration-1] <- sum((1 * (predict(single_model, batch[,-m])>0.5)) == batch[,m]) / batch_size\n",
    "        pred <- sm_pred\n",
    "        drift_vec[iteration-1] <- sum(abs(prev_data_stats - data_stats)) / ( n_classes)\n",
    "        models[[iteration-1]] <- single_model\n",
    "        models_drift[iteration-1] <- drift_vec[iteration-1]\n",
    "    } else { \n",
    "        # If not the first iteration, compare with previous values\n",
    "        sm_pred[iteration-1] <- sum((1 * (predict(single_model, batch[,-m])>0.5)) == batch[,m]) / batch_size\n",
    "        # Calculates drift\n",
    "        drift_vec[iteration-1] <- sum(abs(prev_data_stats - data_stats)) / ( n_classes)\n",
    "        # Tries to get an adequate model\n",
    "        min_diff <- min(abs(drift_vec[iteration-1] - unlist(models_drift)))\n",
    "        idx <- which.min(drift_vec[iteration-1] - unlist(models_drift))\n",
    "        \n",
    "        # If drift difference below threshold, use the best model\n",
    "        if(min_diff < max_drift){\n",
    "            pred[iteration-1] <- sum((1 * (predict(models[[idx]], batch[,-m])>0.5)) == batch[,m]) / batch_size\n",
    "        } else {\n",
    "            models[[length(models) + 1]] <- mlp(x = batch[,1:m-1], y = batch[,m])\n",
    "            models_drift[[length(models)]] <- drift_vec[iteration-1]\n",
    "            pred[iteration-1] <- sum((1 * (predict(models[[length(models)]], batch[,-m])>0.5)) == batch[,m]) / batch_size\n",
    "        }\n",
    "    }\n",
    "    \n",
    "    prev_data_stats <- data_stats\n",
    "}"
   ]
  },
  {
   "cell_type": "code",
   "execution_count": 18,
   "metadata": {},
   "outputs": [
    {
     "data": {
      "image/png": "[encoded data removed]",
      "text/plain": [
       "Plot with title \"Hyperplane: Concept drift index\""
      ]
     },
     "metadata": {},
     "output_type": "display_data"
    },
    {
     "name": "stdout",
     "output_type": "stream",
     "text": [
      "Single model mean accuracy:0.51050505050505\n",
      "Multiple model mean accuracy:0.587676767676768\n",
      "Number of models:6"
     ]
    },
    {
     "data": {
      "image/png": "[encoded data removed]",
      "text/plain": [
       "Plot with title \"Hyperplane: Model accuracy comparison\""
      ]
     },
     "metadata": {},
     "output_type": "display_data"
    }
   ],
   "source": [
    "plot(drift_vec, type=\"o\", main=\"Hyperplane: Concept drift index\", xlab='Data Batch', ylab='Concept Drift Index')\n",
    "\n",
    "xlim <- c(0, n_batches)\n",
    "ylim <- c(0.4, 1.1)\n",
    "plot(sm_pred[-length(sm_pred)], type=\"l\", lty=3, xlim=xlim, ylim=ylim, xlab='', ylab='', col='red', main=\"Hyperplane: Model accuracy comparison\")\n",
    "#par(new=T)\n",
    "lines(pred[-length(pred)], type=\"l\", xlim=xlim, ylim=ylim, xlab='', ylab='', col='black')\n",
    "legend(70, 1, legend=c(\"Multiple Models\", \"Single Model\"),\n",
    "       col=c(\"black\", \"red\"), lty=c(1,3), cex=0.8)\n",
    "\n",
    "cat(paste0(\"Single model mean accuracy:\", mean(sm_pred[-length(sm_pred)])))\n",
    "cat(paste0(\"\\nMultiple model mean accuracy:\", mean(pred[-length(pred)])))\n",
    "cat(paste0(\"\\nNumber of models:\", length(models)))"
   ]
  },
  {
   "cell_type": "markdown",
   "metadata": {},
   "source": [
    "# Electricity"
   ]
  },
  {
   "cell_type": "code",
   "execution_count": 356,
   "metadata": {},
   "outputs": [],
   "source": [
    "# Parameters\n",
    "data <- electricity\n",
    "max_drift_perc <- 1 # 100 percent of the first drift value\n",
    "max_drift <- 0.3\n",
    "batch_size <- 200\n",
    "\n",
    "# Initializing Variables\n",
    "models <- list()\n",
    "models_drift <- list()\n",
    "n <- dim(data)[1]\n",
    "m <- dim(data)[2]\n",
    "n_classes <- length(unique(data[,m]))\n",
    "n_batches <- ceiling(n / batch_size)\n",
    "drift_vec <- matrix(0, ncol=1, nrow=n_batches-1)\n",
    "if(n_batches < 1){\n",
    "    stop(\"Batch size bigger than data size.\")\n",
    "}\n",
    "data_stats <- array(0, c(3, m-1, n_classes, n_batches))\n",
    "sm_pred <- matrix(0, ncol=1, nrow=n_batches)\n",
    "pred <- matrix(0, ncol=1, nrow=n_batches)\n",
    "\n",
    "# Main iteration over data batches\n",
    "for(iteration in seq(n_batches)){\n",
    "    beginning <- (iteration - 1) * batch_size + 1\n",
    "    if(beginning > n){\n",
    "        stop(\"Data batch indices exceed limits.\")\n",
    "    }\n",
    "    end <- iteration * batch_size\n",
    "    if (end >= n){\n",
    "        end <- n\n",
    "        end_of_data <- TRUE\n",
    "    }\n",
    "    batch <- data[beginning:end,]\n",
    "    \n",
    "    # Evaluate presence of concept drift\n",
    "    # Calculate data stats\n",
    "    for(f in seq(1,m-1)){\n",
    "        for(c in seq(n_classes)){\n",
    "            class_batch <- batch[batch[,m]==c-1,f]\n",
    "            data_stats[1,f,c,iteration] <- min(class_batch)\n",
    "            data_stats[2,f,c,iteration] <- mean(class_batch)\n",
    "            data_stats[3,f,c,iteration] <- max(class_batch)\n",
    "        }\n",
    "    }\n",
    "    \n",
    "    if(iteration == 1){\n",
    "        single_model <- mlp(x = batch[,1:m-1], y = batch[,m])\n",
    "    } else if(iteration ==2){\n",
    "        sm_pred[iteration-1] <- sum((1 * (predict(single_model, batch[,-m])>0.5)) == batch[,m]) / batch_size\n",
    "        pred <- sm_pred\n",
    "        drift_vec[iteration-1] <- sum(abs(prev_data_stats - data_stats)) / ( n_classes)\n",
    "        models[[iteration-1]] <- single_model\n",
    "        models_drift[iteration-1] <- drift_vec[iteration-1]\n",
    "    } else { \n",
    "        # If not the first iteration, compare with previous values\n",
    "        sm_pred[iteration-1] <- sum((1 * (predict(single_model, batch[,-m])>0.5)) == batch[,m]) / batch_size\n",
    "        # Calculates drift\n",
    "        drift_vec[iteration-1] <- sum(abs(prev_data_stats - data_stats)) / ( n_classes)\n",
    "        # Tries to get an adequate model\n",
    "        min_diff <- min(abs(drift_vec[iteration-1] - unlist(models_drift)))\n",
    "        idx <- which.min(drift_vec[iteration-1] - unlist(models_drift))\n",
    "        \n",
    "        # If drift difference below threshold, use the best model\n",
    "        if(min_diff < max_drift){\n",
    "            pred[iteration-1] <- sum((1 * (predict(models[[idx]], batch[,-m])>0.5)) == batch[,m]) / batch_size\n",
    "        } else {\n",
    "            models[[length(models) + 1]] <- mlp(x = batch[,1:m-1], y = batch[,m])\n",
    "            models_drift[[length(models)]] <- drift_vec[iteration-1]\n",
    "            pred[iteration-1] <- sum((1 * (predict(models[[length(models)]], batch[,-m])>0.5)) == batch[,m]) / batch_size\n",
    "        }\n",
    "    }\n",
    "    \n",
    "    prev_data_stats <- data_stats\n",
    "}"
   ]
  },
  {
   "cell_type": "code",
   "execution_count": 357,
   "metadata": {},
   "outputs": [
    {
     "data": {
      "image/png": "[encoded data removed]",
      "text/plain": [
       "Plot with title \"Electricity: Concept drift index\""
      ]
     },
     "metadata": {},
     "output_type": "display_data"
    },
    {
     "name": "stdout",
     "output_type": "stream",
     "text": [
      "Single model mean accuracy:0.423473451327434\n",
      "Multiple model mean accuracy:0.616747787610619\n",
      "Number of models:8"
     ]
    },
    {
     "data": {
      "image/png": "[encoded data removed]",
      "text/plain": [
       "Plot with title \"Electricity: Model accuracy comparison\""
      ]
     },
     "metadata": {},
     "output_type": "display_data"
    }
   ],
   "source": [
    "plot(drift_vec, type=\"o\", main=\"Electricity: Concept drift index\")\n",
    "\n",
    "xlim <- c(0, n_batches)\n",
    "ylim <- c(0.2, 1.1)\n",
    "plot(sm_pred[-length(sm_pred)], type=\"l\", lty=3, xlim=xlim, ylim=ylim, xlab='', ylab='', col='red', main=\"Electricity: Model accuracy comparison\")\n",
    "#par(new=T)\n",
    "lines(pred[-length(pred)], type=\"l\", xlim=xlim, ylim=ylim, xlab='', ylab='', col='black')\n",
    "legend(70, 1, legend=c(\"Multiple Models\", \"Single Model\"),\n",
    "       col=c(\"black\", \"red\"), lty=c(1,3), cex=0.8)\n",
    "\n",
    "cat(paste0(\"Single model mean accuracy:\", mean(sm_pred[-length(sm_pred)])))\n",
    "cat(paste0(\"\\nMultiple model mean accuracy:\", mean(pred[-length(pred)])))\n",
    "cat(paste0(\"\\nNumber of models:\", length(models)))"
   ]
  },
  {
   "cell_type": "markdown",
   "metadata": {},
   "source": [
    "# SEA"
   ]
  },
  {
   "cell_type": "code",
   "execution_count": 350,
   "metadata": {},
   "outputs": [],
   "source": [
    "# Parameters\n",
    "data <- sea\n",
    "max_drift <- 0.02\n",
    "batch_size <- 200\n",
    "\n",
    "# Initializing Variables\n",
    "models <- list()\n",
    "models_drift <- list()\n",
    "n <- dim(data)[1]\n",
    "m <- dim(data)[2]\n",
    "n_classes <- length(unique(data[,m]))\n",
    "n_batches <- ceiling(n / batch_size)\n",
    "drift_vec <- matrix(0, ncol=1, nrow=n_batches-1)\n",
    "if(n_batches < 1){\n",
    "    stop(\"Batch size bigger than data size.\")\n",
    "}\n",
    "data_stats <- array(0, c(3, m-1, n_classes, n_batches))\n",
    "sm_pred <- matrix(0, ncol=1, nrow=n_batches)\n",
    "pred <- matrix(0, ncol=1, nrow=n_batches)\n",
    "\n",
    "# Main iteration over data batches\n",
    "for(iteration in seq(n_batches)){\n",
    "    beginning <- (iteration - 1) * batch_size + 1\n",
    "    if(beginning > n){\n",
    "        stop(\"Data batch indices exceed limits.\")\n",
    "    }\n",
    "    end <- iteration * batch_size\n",
    "    if (end >= n){\n",
    "        end <- n\n",
    "        end_of_data <- TRUE\n",
    "    }\n",
    "    batch <- data[beginning:end,]\n",
    "    \n",
    "    # Evaluate presence of concept drift\n",
    "    # Calculate data stats\n",
    "    for(f in seq(1,m-1)){\n",
    "        for(c in seq(n_classes)){\n",
    "            class_batch <- batch[batch[,m]==c-1,f]\n",
    "            data_stats[1,f,c,iteration] <- min(class_batch)\n",
    "            data_stats[2,f,c,iteration] <- mean(class_batch)\n",
    "            data_stats[3,f,c,iteration] <- max(class_batch)\n",
    "        }\n",
    "    }\n",
    "    \n",
    "    if(iteration == 1){\n",
    "        single_model <- mlp(x = batch[,1:m-1], y = batch[,m])\n",
    "    } else if(iteration ==2){\n",
    "        sm_pred[iteration-1] <- sum((1 * (predict(single_model, batch[,-m])>0.5)) == batch[,m]) / batch_size\n",
    "        pred <- sm_pred\n",
    "        drift_vec[iteration-1] <- sum(abs(prev_data_stats - data_stats)) / ( n_classes)\n",
    "        models[[iteration-1]] <- single_model\n",
    "        models_drift[iteration-1] <- drift_vec[iteration-1]\n",
    "    } else { \n",
    "        # If not the first iteration, compare with previous values\n",
    "        sm_pred[iteration-1] <- sum((1 * (predict(single_model, batch[,-m])>0.5)) == batch[,m]) / batch_size\n",
    "        # Calculates drift\n",
    "        drift_vec[iteration-1] <- sum(abs(prev_data_stats - data_stats)) / ( n_classes)\n",
    "        # Tries to get an adequate model\n",
    "        min_diff <- min(abs(drift_vec[iteration-1] - unlist(models_drift)))\n",
    "        idx <- which.min(drift_vec[iteration-1] - unlist(models_drift))\n",
    "        \n",
    "        # If drift difference below threshold, use the best model\n",
    "        if(min_diff < max_drift){\n",
    "            pred[iteration-1] <- sum((1 * (predict(models[[idx]], batch[,-m])>0.5)) == batch[,m]) / batch_size\n",
    "        } else {\n",
    "            models[[length(models) + 1]] <- mlp(x = batch[,1:m-1], y = batch[,m])\n",
    "            models_drift[[length(models)]] <- drift_vec[iteration-1]\n",
    "            pred[iteration-1] <- sum((1 * (predict(models[[length(models)]], batch[,-m])>0.5)) == batch[,m]) / batch_size\n",
    "        }\n",
    "    }\n",
    "    \n",
    "    prev_data_stats <- data_stats\n",
    "}"
   ]
  },
  {
   "cell_type": "code",
   "execution_count": 351,
   "metadata": {},
   "outputs": [
    {
     "data": {
      "image/png": "[encoded data removed]",
      "text/plain": [
       "Plot with title \"SEA: Concept drift index\""
      ]
     },
     "metadata": {},
     "output_type": "display_data"
    },
    {
     "name": "stdout",
     "output_type": "stream",
     "text": [
      "Single model mean accuracy:0.849916387959866\n",
      "Multiple model mean accuracy:0.855769230769231\n",
      "Number of models:14"
     ]
    },
    {
     "data": {
      "image/png": "[encoded data removed]",
      "text/plain": [
       "Plot with title \"SEA: Model accuracy comparison\""
      ]
     },
     "metadata": {},
     "output_type": "display_data"
    }
   ],
   "source": [
    "plot(drift_vec, type=\"o\", main=\"SEA: Concept drift index\")\n",
    "\n",
    "xlim <- c(0, n_batches)\n",
    "ylim <- c(0.7, 1.0)\n",
    "plot(sm_pred[-length(sm_pred)], type=\"l\", lty=3, xlim=xlim, ylim=ylim, xlab='', ylab='', col='red', main=\"SEA: Model accuracy comparison\")\n",
    "#par(new=T)\n",
    "lines(pred[-length(pred)], type=\"l\", xlim=xlim, ylim=ylim, xlab='', ylab='', col='black')\n",
    "legend(70, 1, legend=c(\"Multiple Models\", \"Single Model\"),\n",
    "       col=c(\"black\", \"red\"), lty=c(1,3), cex=0.8)\n",
    "\n",
    "cat(paste0(\"Single model mean accuracy:\", mean(sm_pred[-length(sm_pred)])))\n",
    "cat(paste0(\"\\nMultiple model mean accuracy:\", mean(pred[-length(pred)])))\n",
    "cat(paste0(\"\\nNumber of models:\", length(models)))"
   ]
  },
  {
   "cell_type": "code",
   "execution_count": 345,
   "metadata": {},
   "outputs": [
    {
     "data": {
      "text/html": [
       "239"
      ],
      "text/latex": [
       "239"
      ],
      "text/markdown": [
       "239"
      ],
      "text/plain": [
       "[1] 239"
      ]
     },
     "metadata": {},
     "output_type": "display_data"
    }
   ],
   "source": [
    "sum(sm_pred == pred)"
   ]
  },
  {
   "cell_type": "code",
   "execution_count": 346,
   "metadata": {},
   "outputs": [
    {
     "data": {
      "text/html": [
       "300"
      ],
      "text/latex": [
       "300"
      ],
      "text/markdown": [
       "300"
      ],
      "text/plain": [
       "[1] 300"
      ]
     },
     "metadata": {},
     "output_type": "display_data"
    }
   ],
   "source": [
    "length(pred)"
   ]
  },
  {
   "cell_type": "code",
   "execution_count": null,
   "metadata": {},
   "outputs": [],
   "source": []
  }
 ],
 "metadata": {
  "kernelspec": {
   "display_name": "R",
   "language": "R",
   "name": "ir"
  },
  "language_info": {
   "codemirror_mode": "r",
   "file_extension": ".r",
   "mimetype": "text/x-r-source",
   "name": "R",
   "pygments_lexer": "r",
   "version": "3.6.1"
  }
 },
 "nbformat": 4,
 "nbformat_minor": 2
}
