{
 "cells": [
  {
   "cell_type": "markdown",
   "metadata": {},
   "source": [
    "# Exercicios 1 e 2 de Redes Neurais Artificiais \n",
    "\n",
    "**Ramon Gomes Durães de Oliveira | 2019720188** \n",
    "\n",
    "*Agosto de 2019*\n",
    "\n"
   ]
  },
  {
   "cell_type": "markdown",
   "metadata": {},
   "source": [
    "**Nota: O exercício foi feito utilizando Jupyter Notebook, entretanto percebi que ao exportar para PDF o arquivo ficou enorme (não tem como esconder código e há muito espaço em branco quando não cabe algum gráfico. Farei os próximos exercícios no R Sweave ou R Markdown para diminuir o tamanho!**"
   ]
  },
  {
   "cell_type": "markdown",
   "metadata": {},
   "source": [
    "## Problema 1 - a) Dados linearmente separáveis"
   ]
  },
  {
   "cell_type": "code",
   "execution_count": 1,
   "metadata": {},
   "outputs": [
    {
     "name": "stderr",
     "output_type": "stream",
     "text": [
      "Loading required package: lattice\n",
      "Loading required package: ggplot2\n",
      "Registered S3 methods overwritten by 'ggplot2':\n",
      "  method         from \n",
      "  [.quosures     rlang\n",
      "  c.quosures     rlang\n",
      "  print.quosures rlang\n"
     ]
    }
   ],
   "source": [
    "rm(list=ls())\n",
    "library(\"mlbench\")\n",
    "library(\"caret\")\n",
    "library(\"e1071\")"
   ]
  },
  {
   "cell_type": "markdown",
   "metadata": {},
   "source": [
    "### Gerando a base de dados"
   ]
  },
  {
   "cell_type": "markdown",
   "metadata": {},
   "source": [
    "Serão gerados 100 pontos para duas classes de dados bidimensionais linearmente separáveis utilizando a distribuição normal: "
   ]
  },
  {
   "cell_type": "code",
   "execution_count": 2,
   "metadata": {},
   "outputs": [
    {
     "data": {
      "text/html": [
       "<table>\n",
       "<thead><tr><th scope=col>x1</th><th scope=col>x2</th><th scope=col>class</th></tr></thead>\n",
       "<tbody>\n",
       "\t<tr><td>0.9140179</td><td>1.6153671</td><td>0        </td></tr>\n",
       "\t<tr><td>1.2329000</td><td>0.4751506</td><td>0        </td></tr>\n",
       "\t<tr><td>1.0636019</td><td>1.2390148</td><td>0        </td></tr>\n",
       "\t<tr><td>1.1831255</td><td>1.1937495</td><td>0        </td></tr>\n",
       "\t<tr><td>1.2373763</td><td>0.6219856</td><td>0        </td></tr>\n",
       "\t<tr><td>1.2202838</td><td>1.9121248</td><td>0        </td></tr>\n",
       "</tbody>\n",
       "</table>\n"
      ],
      "text/latex": [
       "\\begin{tabular}{r|lll}\n",
       " x1 & x2 & class\\\\\n",
       "\\hline\n",
       "\t 0.9140179 & 1.6153671 & 0        \\\\\n",
       "\t 1.2329000 & 0.4751506 & 0        \\\\\n",
       "\t 1.0636019 & 1.2390148 & 0        \\\\\n",
       "\t 1.1831255 & 1.1937495 & 0        \\\\\n",
       "\t 1.2373763 & 0.6219856 & 0        \\\\\n",
       "\t 1.2202838 & 1.9121248 & 0        \\\\\n",
       "\\end{tabular}\n"
      ],
      "text/markdown": [
       "\n",
       "| x1 | x2 | class |\n",
       "|---|---|---|\n",
       "| 0.9140179 | 1.6153671 | 0         |\n",
       "| 1.2329000 | 0.4751506 | 0         |\n",
       "| 1.0636019 | 1.2390148 | 0         |\n",
       "| 1.1831255 | 1.1937495 | 0         |\n",
       "| 1.2373763 | 0.6219856 | 0         |\n",
       "| 1.2202838 | 1.9121248 | 0         |\n",
       "\n"
      ],
      "text/plain": [
       "  x1        x2        class\n",
       "1 0.9140179 1.6153671 0    \n",
       "2 1.2329000 0.4751506 0    \n",
       "3 1.0636019 1.2390148 0    \n",
       "4 1.1831255 1.1937495 0    \n",
       "5 1.2373763 0.6219856 0    \n",
       "6 1.2202838 1.9121248 0    "
      ]
     },
     "metadata": {},
     "output_type": "display_data"
    }
   ],
   "source": [
    "n1 <- 100\n",
    "mu1 <- c(1,1)\n",
    "sd1 <- 0.4\n",
    "xc1 <- cbind(rnorm(n = n1, mean = mu1[1], sd = sd1),\n",
    "             rnorm(n = n1, mean = mu1[2], sd = sd1),\n",
    "            0)\n",
    "\n",
    "n2 <- 100\n",
    "mu2 <- c(3,3)\n",
    "sd2 <- 0.4\n",
    "xc2 <- cbind(rnorm(n = n2, mean = mu2[1], sd = sd2),\n",
    "             rnorm(n = n2, mean = mu2[2], sd = sd2), \n",
    "             1)\n",
    "\n",
    "data <- data.frame(rbind(xc1, xc2))\n",
    "colnames(data) <- c(\"x1\", \"x2\", \"class\")\n",
    "head(data)"
   ]
  },
  {
   "cell_type": "markdown",
   "metadata": {},
   "source": [
    "Visualizando:"
   ]
  },
  {
   "cell_type": "code",
   "execution_count": 3,
   "metadata": {},
   "outputs": [
    {
     "data": {
      "image/png": "[encoded data removed]",
      "text/plain": [
       "plot without title"
      ]
     },
     "metadata": {},
     "output_type": "display_data"
    }
   ],
   "source": [
    "plot(data$x1, data$x2, col=data$class + 1)"
   ]
  },
  {
   "cell_type": "markdown",
   "metadata": {},
   "source": [
    "### Implementação do Perceptron\n",
    "\n",
    "Foi implementada uma função de treinamento de um perceptron simples, que toma como entradas:\n",
    "- data: os dados de entrada no formato de matriz do R na qual o número de linhas é o número de observações. A coluna de 1's ou -1's (a bias unit) já deve ter sido adicionada aos dados e a classe (y) está na última coluna;\n",
    "- eta: a taxa de aprendizado;\n",
    "- tol: a tolerância de erro (uma das condições de parada);\n",
    "- nepochs: o número de épocas de treinamento (caso o erro não fique menor que tol);\n",
    "- shuffle_data (opcional): se verdadeiro (T) embaralha os dados antes de treinar.\n",
    "\n",
    "A função inicializa um vetor de pesos aleatório $W$ e, para cada observação $x_i$, calcula a saída $\\hat{y}_i$ e a compara com a saída real $y_i$. Se a classe prevista for diferente da real, o vetor de pesos é atualizado seguindo a regra:\n",
    "\n",
    "\\begin{equation}\n",
    "W=W + \\eta * e_i * x_i\n",
    "\\end{equation}\n",
    "\n",
    "O erro é acumulado para cada época e comparado com $tol$. A função então retorna os pesos ajustados $W$ e o erro acumulado a cada época de treinamento."
   ]
  },
  {
   "cell_type": "code",
   "execution_count": 4,
   "metadata": {},
   "outputs": [],
   "source": [
    "train_perceptron <- function(data, \n",
    "                             eta, \n",
    "                             tol,\n",
    "                             nepochs,\n",
    "                             shuffle_data = T){\n",
    "# This function assumes the bias term has already \n",
    "# been added if necessary and the classes of each \n",
    "# observation are in the last column of the input data.\n",
    "    \n",
    "    nrows <- dim(data)[1] \n",
    "    ndims <- dim(data)[2] - 1\n",
    "    error_vec <- matrix(0, nrow=1, ncol=nepochs)\n",
    "\n",
    "    # Randomly initializes weight vector\n",
    "    W <- as.matrix(runif(ndims, -1, 1), nrow=ndims, ncol=1)\n",
    "    \n",
    "    for (epoch in 1:nepochs){\n",
    "        \n",
    "        # Shuffles data\n",
    "        if(shuffle_data){\n",
    "            data_seq <- data[sample(nrows),]\n",
    "        } else {\n",
    "            data_seq <- data\n",
    "        }\n",
    "\n",
    "        # Loops over data\n",
    "        for(row in 1:nrows){\n",
    "            \n",
    "            xi <- t(data_seq[row,1:ndims])\n",
    "            yi <- data_seq[row, ndims+1]\n",
    "            \n",
    "            # Calculates yhat\n",
    "            yhat <- 1.0 * as.numeric(xi %*% W >= 0 )\n",
    "            # Compares with true y\n",
    "            error <- as.vector(yi - yhat)\n",
    "#             cat(sprintf(\"%i %i %i\\n\", yi, yhat, error))\n",
    "            # Adjusts weight vector\n",
    "            dw <- t(eta * error * xi)\n",
    "            W <- W + dw\n",
    "            # Accumulates error\n",
    "            error_vec[epoch] <- error_vec[epoch] + abs(error) \n",
    "        }\n",
    "        \n",
    "        # Stopping criteria: error smaller than tolerance\n",
    "        if (error_vec[epoch] < tol){\n",
    "            print(\"Stopping due to error smaller than tol.\")\n",
    "            break\n",
    "        }\n",
    "    }\n",
    "    return(list(\"weights\" = W, \"errors\" = error_vec))\n",
    "}\n"
   ]
  },
  {
   "cell_type": "markdown",
   "metadata": {},
   "source": [
    "### Aplicando nos dados gerados"
   ]
  },
  {
   "cell_type": "markdown",
   "metadata": {},
   "source": [
    "Utilizando os parâmetros mostrados no código abaixo, um perceptron foi treinado para os dados gerados. Os pesos e o erro por época de treinamento também são mostrados abaixo"
   ]
  },
  {
   "cell_type": "code",
   "execution_count": 7,
   "metadata": {},
   "outputs": [
    {
     "name": "stdout",
     "output_type": "stream",
     "text": [
      "[1] \"Stopping due to error smaller than tol.\"\n"
     ]
    },
    {
     "data": {
      "text/html": [
       "<dl>\n",
       "\t<dt>$weights</dt>\n",
       "\t\t<dd><table>\n",
       "<tbody>\n",
       "\t<tr><th scope=row>-1</th><td>0.28778089</td></tr>\n",
       "\t<tr><th scope=row>x1</th><td>0.03612347</td></tr>\n",
       "\t<tr><th scope=row>x2</th><td>0.09383918</td></tr>\n",
       "</tbody>\n",
       "</table>\n",
       "</dd>\n",
       "\t<dt>$errors</dt>\n",
       "\t\t<dd><table>\n",
       "<tbody>\n",
       "\t<tr><td>101</td><td>38 </td><td>14 </td><td>6  </td><td>2  </td><td>3  </td><td>0  </td><td>0  </td><td>0  </td><td>0  </td></tr>\n",
       "</tbody>\n",
       "</table>\n",
       "</dd>\n",
       "</dl>\n"
      ],
      "text/latex": [
       "\\begin{description}\n",
       "\\item[\\$weights] \\begin{tabular}{r|l}\n",
       "\t-1 & 0.28778089\\\\\n",
       "\tx1 & 0.03612347\\\\\n",
       "\tx2 & 0.09383918\\\\\n",
       "\\end{tabular}\n",
       "\n",
       "\\item[\\$errors] \\begin{tabular}{llllllllll}\n",
       "\t 101 & 38  & 14  & 6   & 2   & 3   & 0   & 0   & 0   & 0  \\\\\n",
       "\\end{tabular}\n",
       "\n",
       "\\end{description}\n"
      ],
      "text/markdown": [
       "$weights\n",
       ":   \n",
       "| -1 | 0.28778089 |\n",
       "| x1 | 0.03612347 |\n",
       "| x2 | 0.09383918 |\n",
       "\n",
       "\n",
       "$errors\n",
       ":   \n",
       "| 101 | 38  | 14  | 6   | 2   | 3   | 0   | 0   | 0   | 0   |\n",
       "\n",
       "\n",
       "\n",
       "\n"
      ],
      "text/plain": [
       "$weights\n",
       "         [,1]\n",
       "-1 0.28778089\n",
       "x1 0.03612347\n",
       "x2 0.09383918\n",
       "\n",
       "$errors\n",
       "     [,1] [,2] [,3] [,4] [,5] [,6] [,7] [,8] [,9] [,10]\n",
       "[1,]  101   38   14    6    2    3    0    0    0     0\n"
      ]
     },
     "metadata": {},
     "output_type": "display_data"
    }
   ],
   "source": [
    "tol <- 0.00001\n",
    "eta <- 0.01\n",
    "nepochs <- 10\n",
    "shuffle_data <- T\n",
    "data_aug <- data.matrix(cbind(-1,data))\n",
    "\n",
    "perceptron <- train_perceptron(data = data_aug, \n",
    "                             eta = eta, \n",
    "                             tol = tol,\n",
    "                             nepochs = nepochs,\n",
    "                             shuffle_data = shuffle_data)\n",
    "perceptron"
   ]
  },
  {
   "cell_type": "markdown",
   "metadata": {},
   "source": [
    "Avaliando a saída do perceptron num grid de pontos, pode-se plotar a superfície de separação gerada:"
   ]
  },
  {
   "cell_type": "code",
   "execution_count": 8,
   "metadata": {},
   "outputs": [
    {
     "data": {
      "image/png": "[encoded data removed]",
      "text/plain": [
       "plot without title"
      ]
     },
     "metadata": {},
     "output_type": "display_data"
    }
   ],
   "source": [
    "# Plotting surface\n",
    "xseq <- seq(-1,5,0.05)\n",
    "lseq <- length(xseq)\n",
    "MZ <- matrix(0, nrow=lseq, ncol=lseq)\n",
    "\n",
    "for(i in 1:lseq){\n",
    "    for(j in 1:lseq){\n",
    "        xi <- as.matrix(cbind(-1, xseq[i], xseq[j]), nrow = 1, ncol=ndims)\n",
    "        MZ[i,j] <- 1.0 * (xi %*% perceptron$weights >= 0 )\n",
    "    }\n",
    "}\n",
    "\n",
    "lim=c(-1,5)\n",
    "plot(data[,1], data[,2], col=data[,3]+1, xlim=lim, ylim=lim)\n",
    "par(new=T)\n",
    "contour(x= xseq, y=xseq, z=MZ, xlim=lim, ylim=lim, lwd=0.5, drawlabels = F)"
   ]
  },
  {
   "cell_type": "markdown",
   "metadata": {},
   "source": [
    "Percebe-se que esta é uma das infinitas retas que separam os dados gerados, mas não é a de margem máxima."
   ]
  },
  {
   "cell_type": "markdown",
   "metadata": {},
   "source": [
    "Para avaliar o perceptron em novas entradas e analisar os resultados da classificação, foi criada a função **evaluate_perceptron** que recebe como entrada:\n",
    "- perceptron: um perceptron treinado, do qual os pesos são extraídos;\n",
    "- data: os novos dados nos quais o perceptron será avaliado, no mesmo formato anterior;\n",
    "\n",
    "A saída desta função é:\n",
    "\n",
    "- $\\hat{y}$: o vetor de classes preditas para cada observação de entrada;\n",
    "- error: o erro percentual de classificação\n",
    "- confusionMatrix: a matriz de confução (e métricas como sensibilidade e especificidade da classificação)."
   ]
  },
  {
   "cell_type": "code",
   "execution_count": 9,
   "metadata": {},
   "outputs": [],
   "source": [
    "evaluate_perceptron <- function(perceptron, data){\n",
    "    nrows <- dim(data)[1] \n",
    "    ndims <- dim(data)[2] - 1\n",
    "    yhat_vec <- matrix(ncol= 1, nrow = nrows)\n",
    "    W <- as.matrix(perceptron$weights)\n",
    "    \n",
    "    # Loops over data\n",
    "    for(row in 1:nrows){\n",
    "\n",
    "        xi <- t(data[row,1:ndims])\n",
    "        yi <- data[row, ndims+1]\n",
    "\n",
    "        # Calculates yhat\n",
    "        yhat_vec[row] <- 1.0 * (xi %*% W >= 0 )\n",
    "    }\n",
    "    \n",
    "    confMat <- confusionMatrix(as.factor(yhat_vec), as.factor(data[,ncol(data)]))\n",
    "    error <- 100 * sum(yhat_vec != data[,ndims+1]) / nrows\n",
    "    \n",
    "    return(list(\"yhat\" = yhat_vec, \n",
    "                \"error\" = error,\n",
    "                \"confusionMatrix\" = confMat))\n",
    "}"
   ]
  },
  {
   "cell_type": "markdown",
   "metadata": {},
   "source": [
    "Aplicando esta função nos dados gerados, obtem-se:"
   ]
  },
  {
   "cell_type": "code",
   "execution_count": 10,
   "metadata": {},
   "outputs": [
    {
     "data": {
      "text/plain": [
       "Confusion Matrix and Statistics\n",
       "\n",
       "          Reference\n",
       "Prediction   0   1\n",
       "         0 100   0\n",
       "         1   0 100\n",
       "                                     \n",
       "               Accuracy : 1          \n",
       "                 95% CI : (0.9817, 1)\n",
       "    No Information Rate : 0.5        \n",
       "    P-Value [Acc > NIR] : < 2.2e-16  \n",
       "                                     \n",
       "                  Kappa : 1          \n",
       "                                     \n",
       " Mcnemar's Test P-Value : NA         \n",
       "                                     \n",
       "            Sensitivity : 1.0        \n",
       "            Specificity : 1.0        \n",
       "         Pos Pred Value : 1.0        \n",
       "         Neg Pred Value : 1.0        \n",
       "             Prevalence : 0.5        \n",
       "         Detection Rate : 0.5        \n",
       "   Detection Prevalence : 0.5        \n",
       "      Balanced Accuracy : 1.0        \n",
       "                                     \n",
       "       'Positive' Class : 0          \n",
       "                                     "
      ]
     },
     "metadata": {},
     "output_type": "display_data"
    }
   ],
   "source": [
    "results <- evaluate_perceptron(perceptron, data_aug)\n",
    "results$confusionMatrix"
   ]
  },
  {
   "cell_type": "markdown",
   "metadata": {},
   "source": [
    "Para este problema hipotético, todas as métricas de classificação são perfeitas!"
   ]
  },
  {
   "cell_type": "markdown",
   "metadata": {},
   "source": [
    "## Problema 1 - b) Breast Cancer"
   ]
  },
  {
   "cell_type": "markdown",
   "metadata": {},
   "source": [
    "Abaixo é carregada a base de dados Breast Cancer do pacote mlbench. A tarefa é separar cânceres de mama benignos dos malignos."
   ]
  },
  {
   "cell_type": "code",
   "execution_count": 11,
   "metadata": {},
   "outputs": [
    {
     "data": {
      "text/html": [
       "<table>\n",
       "<thead><tr><th scope=col>Id</th><th scope=col>Cl.thickness</th><th scope=col>Cell.size</th><th scope=col>Cell.shape</th><th scope=col>Marg.adhesion</th><th scope=col>Epith.c.size</th><th scope=col>Bare.nuclei</th><th scope=col>Bl.cromatin</th><th scope=col>Normal.nucleoli</th><th scope=col>Mitoses</th><th scope=col>Class</th></tr></thead>\n",
       "<tbody>\n",
       "\t<tr><td>1000025  </td><td>5        </td><td>1        </td><td>1        </td><td>1        </td><td>2        </td><td>1        </td><td>3        </td><td>1        </td><td>1        </td><td>benign   </td></tr>\n",
       "\t<tr><td>1002945  </td><td>5        </td><td>4        </td><td>4        </td><td>5        </td><td>7        </td><td>10       </td><td>3        </td><td>2        </td><td>1        </td><td>benign   </td></tr>\n",
       "\t<tr><td>1015425  </td><td>3        </td><td>1        </td><td>1        </td><td>1        </td><td>2        </td><td>2        </td><td>3        </td><td>1        </td><td>1        </td><td>benign   </td></tr>\n",
       "\t<tr><td>1016277  </td><td>6        </td><td>8        </td><td>8        </td><td>1        </td><td>3        </td><td>4        </td><td>3        </td><td>7        </td><td>1        </td><td>benign   </td></tr>\n",
       "\t<tr><td>1017023  </td><td>4        </td><td>1        </td><td>1        </td><td>3        </td><td>2        </td><td>1        </td><td>3        </td><td>1        </td><td>1        </td><td>benign   </td></tr>\n",
       "\t<tr><td>1017122  </td><td>8        </td><td>10       </td><td>10       </td><td>8        </td><td>7        </td><td>10       </td><td>9        </td><td>7        </td><td>1        </td><td>malignant</td></tr>\n",
       "</tbody>\n",
       "</table>\n"
      ],
      "text/latex": [
       "\\begin{tabular}{r|lllllllllll}\n",
       " Id & Cl.thickness & Cell.size & Cell.shape & Marg.adhesion & Epith.c.size & Bare.nuclei & Bl.cromatin & Normal.nucleoli & Mitoses & Class\\\\\n",
       "\\hline\n",
       "\t 1000025   & 5         & 1         & 1         & 1         & 2         & 1         & 3         & 1         & 1         & benign   \\\\\n",
       "\t 1002945   & 5         & 4         & 4         & 5         & 7         & 10        & 3         & 2         & 1         & benign   \\\\\n",
       "\t 1015425   & 3         & 1         & 1         & 1         & 2         & 2         & 3         & 1         & 1         & benign   \\\\\n",
       "\t 1016277   & 6         & 8         & 8         & 1         & 3         & 4         & 3         & 7         & 1         & benign   \\\\\n",
       "\t 1017023   & 4         & 1         & 1         & 3         & 2         & 1         & 3         & 1         & 1         & benign   \\\\\n",
       "\t 1017122   & 8         & 10        & 10        & 8         & 7         & 10        & 9         & 7         & 1         & malignant\\\\\n",
       "\\end{tabular}\n"
      ],
      "text/markdown": [
       "\n",
       "| Id | Cl.thickness | Cell.size | Cell.shape | Marg.adhesion | Epith.c.size | Bare.nuclei | Bl.cromatin | Normal.nucleoli | Mitoses | Class |\n",
       "|---|---|---|---|---|---|---|---|---|---|---|\n",
       "| 1000025   | 5         | 1         | 1         | 1         | 2         | 1         | 3         | 1         | 1         | benign    |\n",
       "| 1002945   | 5         | 4         | 4         | 5         | 7         | 10        | 3         | 2         | 1         | benign    |\n",
       "| 1015425   | 3         | 1         | 1         | 1         | 2         | 2         | 3         | 1         | 1         | benign    |\n",
       "| 1016277   | 6         | 8         | 8         | 1         | 3         | 4         | 3         | 7         | 1         | benign    |\n",
       "| 1017023   | 4         | 1         | 1         | 3         | 2         | 1         | 3         | 1         | 1         | benign    |\n",
       "| 1017122   | 8         | 10        | 10        | 8         | 7         | 10        | 9         | 7         | 1         | malignant |\n",
       "\n"
      ],
      "text/plain": [
       "  Id      Cl.thickness Cell.size Cell.shape Marg.adhesion Epith.c.size\n",
       "1 1000025 5            1         1          1             2           \n",
       "2 1002945 5            4         4          5             7           \n",
       "3 1015425 3            1         1          1             2           \n",
       "4 1016277 6            8         8          1             3           \n",
       "5 1017023 4            1         1          3             2           \n",
       "6 1017122 8            10        10         8             7           \n",
       "  Bare.nuclei Bl.cromatin Normal.nucleoli Mitoses Class    \n",
       "1 1           3           1               1       benign   \n",
       "2 10          3           2               1       benign   \n",
       "3 2           3           1               1       benign   \n",
       "4 4           3           7               1       benign   \n",
       "5 1           3           1               1       benign   \n",
       "6 10          9           7               1       malignant"
      ]
     },
     "metadata": {},
     "output_type": "display_data"
    }
   ],
   "source": [
    "data(BreastCancer)\n",
    "head(BreastCancer)"
   ]
  },
  {
   "cell_type": "markdown",
   "metadata": {},
   "source": [
    "Abaixo os dados são preparados para classificação:\n",
    "- A coluna \"ID\" é removida;\n",
    "- A coluna -1 (bias unit) é adicionada;\n",
    "- As classes são codificadas de forma que \"malign\" torna-se a classe positiva (1) e benign 0."
   ]
  },
  {
   "cell_type": "code",
   "execution_count": 12,
   "metadata": {},
   "outputs": [
    {
     "data": {
      "text/html": [
       "<table>\n",
       "<thead><tr><th scope=col>-1</th><th scope=col>Cl.thickness</th><th scope=col>Cell.size</th><th scope=col>Cell.shape</th><th scope=col>Marg.adhesion</th><th scope=col>Epith.c.size</th><th scope=col>Bare.nuclei</th><th scope=col>Bl.cromatin</th><th scope=col>Normal.nucleoli</th><th scope=col>Mitoses</th><th scope=col>class</th></tr></thead>\n",
       "<tbody>\n",
       "\t<tr><td>-1</td><td>5 </td><td> 1</td><td> 1</td><td>1 </td><td>2 </td><td> 1</td><td>3 </td><td>1 </td><td>1 </td><td>1 </td></tr>\n",
       "\t<tr><td>-1</td><td>5 </td><td> 4</td><td> 4</td><td>5 </td><td>7 </td><td>10</td><td>3 </td><td>2 </td><td>1 </td><td>1 </td></tr>\n",
       "\t<tr><td>-1</td><td>3 </td><td> 1</td><td> 1</td><td>1 </td><td>2 </td><td> 2</td><td>3 </td><td>1 </td><td>1 </td><td>1 </td></tr>\n",
       "\t<tr><td>-1</td><td>6 </td><td> 8</td><td> 8</td><td>1 </td><td>3 </td><td> 4</td><td>3 </td><td>7 </td><td>1 </td><td>1 </td></tr>\n",
       "\t<tr><td>-1</td><td>4 </td><td> 1</td><td> 1</td><td>3 </td><td>2 </td><td> 1</td><td>3 </td><td>1 </td><td>1 </td><td>1 </td></tr>\n",
       "\t<tr><td>-1</td><td>8 </td><td>10</td><td>10</td><td>8 </td><td>7 </td><td>10</td><td>9 </td><td>7 </td><td>1 </td><td>0 </td></tr>\n",
       "</tbody>\n",
       "</table>\n"
      ],
      "text/latex": [
       "\\begin{tabular}{r|lllllllllll}\n",
       " -1 & Cl.thickness & Cell.size & Cell.shape & Marg.adhesion & Epith.c.size & Bare.nuclei & Bl.cromatin & Normal.nucleoli & Mitoses & class\\\\\n",
       "\\hline\n",
       "\t -1 & 5  &  1 &  1 & 1  & 2  &  1 & 3  & 1  & 1  & 1 \\\\\n",
       "\t -1 & 5  &  4 &  4 & 5  & 7  & 10 & 3  & 2  & 1  & 1 \\\\\n",
       "\t -1 & 3  &  1 &  1 & 1  & 2  &  2 & 3  & 1  & 1  & 1 \\\\\n",
       "\t -1 & 6  &  8 &  8 & 1  & 3  &  4 & 3  & 7  & 1  & 1 \\\\\n",
       "\t -1 & 4  &  1 &  1 & 3  & 2  &  1 & 3  & 1  & 1  & 1 \\\\\n",
       "\t -1 & 8  & 10 & 10 & 8  & 7  & 10 & 9  & 7  & 1  & 0 \\\\\n",
       "\\end{tabular}\n"
      ],
      "text/markdown": [
       "\n",
       "| -1 | Cl.thickness | Cell.size | Cell.shape | Marg.adhesion | Epith.c.size | Bare.nuclei | Bl.cromatin | Normal.nucleoli | Mitoses | class |\n",
       "|---|---|---|---|---|---|---|---|---|---|---|\n",
       "| -1 | 5  |  1 |  1 | 1  | 2  |  1 | 3  | 1  | 1  | 1  |\n",
       "| -1 | 5  |  4 |  4 | 5  | 7  | 10 | 3  | 2  | 1  | 1  |\n",
       "| -1 | 3  |  1 |  1 | 1  | 2  |  2 | 3  | 1  | 1  | 1  |\n",
       "| -1 | 6  |  8 |  8 | 1  | 3  |  4 | 3  | 7  | 1  | 1  |\n",
       "| -1 | 4  |  1 |  1 | 3  | 2  |  1 | 3  | 1  | 1  | 1  |\n",
       "| -1 | 8  | 10 | 10 | 8  | 7  | 10 | 9  | 7  | 1  | 0  |\n",
       "\n"
      ],
      "text/plain": [
       "  -1 Cl.thickness Cell.size Cell.shape Marg.adhesion Epith.c.size Bare.nuclei\n",
       "1 -1 5             1         1         1             2             1         \n",
       "2 -1 5             4         4         5             7            10         \n",
       "3 -1 3             1         1         1             2             2         \n",
       "4 -1 6             8         8         1             3             4         \n",
       "5 -1 4             1         1         3             2             1         \n",
       "6 -1 8            10        10         8             7            10         \n",
       "  Bl.cromatin Normal.nucleoli Mitoses class\n",
       "1 3           1               1       1    \n",
       "2 3           2               1       1    \n",
       "3 3           1               1       1    \n",
       "4 3           7               1       1    \n",
       "5 3           1               1       1    \n",
       "6 9           7               1       0    "
      ]
     },
     "metadata": {},
     "output_type": "display_data"
    }
   ],
   "source": [
    "# Removing Id and Class\n",
    "bc <- BreastCancer[,!names(BreastCancer) %in% c(\"Id\", \"Class\")]\n",
    "# Defining benign as 0 as malign as 1\n",
    "class <- 1 * (BreastCancer$Class == \"benign\")\n",
    "# Adding -1 column and numeric class\n",
    "bc <- cbind(-1, bc, class)\n",
    "# Removing NA\n",
    "bc <- bc[complete.cases(bc), ]\n",
    "# Converting to numeric matrix\n",
    "bc <- data.matrix(bc)\n",
    "head(bc)\n",
    "\n",
    "# 1.0 * (BreastCancer$Class == \"benign\")"
   ]
  },
  {
   "cell_type": "markdown",
   "metadata": {},
   "source": [
    "Aplicando o treinamento do perceptron utilizando os parâmetros do código abaixo, obtemos:"
   ]
  },
  {
   "cell_type": "code",
   "execution_count": 101,
   "metadata": {},
   "outputs": [
    {
     "data": {
      "text/html": [
       "<dl>\n",
       "\t<dt>$weights</dt>\n",
       "\t\t<dd><table>\n",
       "<tbody>\n",
       "\t<tr><th scope=row>-1</th><td>-1.021738879</td></tr>\n",
       "\t<tr><th scope=row>Cl.thickness</th><td>-0.058421924</td></tr>\n",
       "\t<tr><th scope=row>Cell.size</th><td>-0.001106742</td></tr>\n",
       "\t<tr><th scope=row>Cell.shape</th><td>-0.031576689</td></tr>\n",
       "\t<tr><th scope=row>Marg.adhesion</th><td>-0.048860668</td></tr>\n",
       "\t<tr><th scope=row>Epith.c.size</th><td>-0.009378182</td></tr>\n",
       "\t<tr><th scope=row>Bare.nuclei</th><td>-0.040717107</td></tr>\n",
       "\t<tr><th scope=row>Bl.cromatin</th><td>-0.041798865</td></tr>\n",
       "\t<tr><th scope=row>Normal.nucleoli</th><td>-0.013210643</td></tr>\n",
       "\t<tr><th scope=row>Mitoses</th><td>-0.082633144</td></tr>\n",
       "</tbody>\n",
       "</table>\n",
       "</dd>\n",
       "\t<dt>$errors</dt>\n",
       "\t\t<dd><table>\n",
       "<tbody>\n",
       "\t<tr><td>290</td><td>148</td><td>96 </td><td>69 </td><td>60 </td><td>46 </td><td>36 </td><td>32 </td><td>30 </td><td>34 </td><td>...</td><td>24 </td><td>26 </td><td>24 </td><td>26 </td><td>24 </td><td>22 </td><td>19 </td><td>22 </td><td>26 </td><td>27 </td></tr>\n",
       "</tbody>\n",
       "</table>\n",
       "</dd>\n",
       "</dl>\n"
      ],
      "text/latex": [
       "\\begin{description}\n",
       "\\item[\\$weights] \\begin{tabular}{r|l}\n",
       "\t-1 & -1.021738879\\\\\n",
       "\tCl.thickness & -0.058421924\\\\\n",
       "\tCell.size & -0.001106742\\\\\n",
       "\tCell.shape & -0.031576689\\\\\n",
       "\tMarg.adhesion & -0.048860668\\\\\n",
       "\tEpith.c.size & -0.009378182\\\\\n",
       "\tBare.nuclei & -0.040717107\\\\\n",
       "\tBl.cromatin & -0.041798865\\\\\n",
       "\tNormal.nucleoli & -0.013210643\\\\\n",
       "\tMitoses & -0.082633144\\\\\n",
       "\\end{tabular}\n",
       "\n",
       "\\item[\\$errors] \\begin{tabular}{llllllllllllllllllllllllllllll}\n",
       "\t 290 & 148 & 96  & 69  & 60  & 46  & 36  & 32  & 30  & 34  & ... & 24  & 26  & 24  & 26  & 24  & 22  & 19  & 22  & 26  & 27 \\\\\n",
       "\\end{tabular}\n",
       "\n",
       "\\end{description}\n"
      ],
      "text/markdown": [
       "$weights\n",
       ":   \n",
       "| -1 | -1.021738879 |\n",
       "| Cl.thickness | -0.058421924 |\n",
       "| Cell.size | -0.001106742 |\n",
       "| Cell.shape | -0.031576689 |\n",
       "| Marg.adhesion | -0.048860668 |\n",
       "| Epith.c.size | -0.009378182 |\n",
       "| Bare.nuclei | -0.040717107 |\n",
       "| Bl.cromatin | -0.041798865 |\n",
       "| Normal.nucleoli | -0.013210643 |\n",
       "| Mitoses | -0.082633144 |\n",
       "\n",
       "\n",
       "$errors\n",
       ":   \n",
       "| 290 | 148 | 96  | 69  | 60  | 46  | 36  | 32  | 30  | 34  | ... | 24  | 26  | 24  | 26  | 24  | 22  | 19  | 22  | 26  | 27  |\n",
       "\n",
       "\n",
       "\n",
       "\n"
      ],
      "text/plain": [
       "$weights\n",
       "                        [,1]\n",
       "-1              -1.021738879\n",
       "Cl.thickness    -0.058421924\n",
       "Cell.size       -0.001106742\n",
       "Cell.shape      -0.031576689\n",
       "Marg.adhesion   -0.048860668\n",
       "Epith.c.size    -0.009378182\n",
       "Bare.nuclei     -0.040717107\n",
       "Bl.cromatin     -0.041798865\n",
       "Normal.nucleoli -0.013210643\n",
       "Mitoses         -0.082633144\n",
       "\n",
       "$errors\n",
       "     [,1] [,2] [,3] [,4] [,5] [,6] [,7] [,8] [,9] [,10] [,11] [,12] [,13] [,14]\n",
       "[1,]  290  148   96   69   60   46   36   32   30    34    28    29    27    29\n",
       "     [,15] [,16] [,17] [,18] [,19] [,20] [,21] [,22] [,23] [,24] [,25] [,26]\n",
       "[1,]    25    26    29    24    24    22    24    26    24    26    24    22\n",
       "     [,27] [,28] [,29] [,30]\n",
       "[1,]    19    22    26    27\n"
      ]
     },
     "metadata": {},
     "output_type": "display_data"
    }
   ],
   "source": [
    "tol <- 0.0001\n",
    "eta <- 0.001\n",
    "nepochs <- 30\n",
    "shuffle_data <- T\n",
    "\n",
    "bc_perceptron <- train_perceptron(data = bc, \n",
    "                             eta = eta, \n",
    "                             tol = tol,\n",
    "                             nepochs = nepochs,\n",
    "                             shuffle_data = shuffle_data)\n",
    "bc_perceptron"
   ]
  },
  {
   "cell_type": "markdown",
   "metadata": {},
   "source": [
    "Para avaliar o perceptron treinado nos dados e analisar as métricas de classificação, utilizamos a funçao \"evaluate perceptron\"."
   ]
  },
  {
   "cell_type": "code",
   "execution_count": 102,
   "metadata": {},
   "outputs": [
    {
     "data": {
      "text/html": [
       "2.48901903367496"
      ],
      "text/latex": [
       "2.48901903367496"
      ],
      "text/markdown": [
       "2.48901903367496"
      ],
      "text/plain": [
       "[1] 2.489019"
      ]
     },
     "metadata": {},
     "output_type": "display_data"
    }
   ],
   "source": [
    "bc_results <- evaluate_perceptron(bc_perceptron, data.matrix(bc[,1:ncol(bc)]))\n",
    "bc_results$error"
   ]
  },
  {
   "cell_type": "markdown",
   "metadata": {},
   "source": [
    "O erro de classificação obtido foi de 2,49% para toda a base de dados. Abaixo estão a matriz de confusão e as demais métricas:"
   ]
  },
  {
   "cell_type": "code",
   "execution_count": 103,
   "metadata": {},
   "outputs": [
    {
     "data": {
      "text/plain": [
       "Confusion Matrix and Statistics\n",
       "\n",
       "          Reference\n",
       "Prediction   0   1\n",
       "         0 233  11\n",
       "         1   6 433\n",
       "                                          \n",
       "               Accuracy : 0.9751          \n",
       "                 95% CI : (0.9604, 0.9854)\n",
       "    No Information Rate : 0.6501          \n",
       "    P-Value [Acc > NIR] : <2e-16          \n",
       "                                          \n",
       "                  Kappa : 0.9456          \n",
       "                                          \n",
       " Mcnemar's Test P-Value : 0.332           \n",
       "                                          \n",
       "            Sensitivity : 0.9749          \n",
       "            Specificity : 0.9752          \n",
       "         Pos Pred Value : 0.9549          \n",
       "         Neg Pred Value : 0.9863          \n",
       "             Prevalence : 0.3499          \n",
       "         Detection Rate : 0.3411          \n",
       "   Detection Prevalence : 0.3572          \n",
       "      Balanced Accuracy : 0.9751          \n",
       "                                          \n",
       "       'Positive' Class : 0               \n",
       "                                          "
      ]
     },
     "metadata": {},
     "output_type": "display_data"
    }
   ],
   "source": [
    "bc_results$confusionMatrix"
   ]
  },
  {
   "cell_type": "markdown",
   "metadata": {},
   "source": [
    "Destaca-se as seguintes métricas:\n",
    "- Acurácia : 0.9751. Indica o percentual de acerto da classificação.\n",
    "- Sensibilidade : 0.9749. Indica a capacidade do classificador de classificar como doentes pacientes efetivamente doentes. No caso, acertar o diagnóstico de pacientes que de fato têm um câncer de mama maligno.\n",
    "- Especificidade: 0.9752. Neste caso, esta métrica indica a capacidade do teste de classificar como não-doentes (no caso, com câncer de mama benigno) os pacientes de fato têm um câncer benigno.\n",
    "\n",
    "Percebe-se, também pela matriz de confusão mostrada acima, que o classificador errou um total de 17 observações: 11 falsos negativos e 6 falsos positivos."
   ]
  },
  {
   "cell_type": "markdown",
   "metadata": {},
   "source": [
    "## Problema 2 - a) Dados lineares com ruído gaussiano"
   ]
  },
  {
   "cell_type": "code",
   "execution_count": 104,
   "metadata": {},
   "outputs": [],
   "source": [
    "rm(list=ls())"
   ]
  },
  {
   "cell_type": "markdown",
   "metadata": {},
   "source": [
    "### Gerando os dados"
   ]
  },
  {
   "cell_type": "markdown",
   "metadata": {},
   "source": [
    "Para gerar os dados, serão utilizados os parâmetros abaixo:"
   ]
  },
  {
   "cell_type": "code",
   "execution_count": 105,
   "metadata": {},
   "outputs": [
    {
     "data": {
      "image/png": "[encoded data removed]",
      "text/plain": [
       "plot without title"
      ]
     },
     "metadata": {},
     "output_type": "display_data"
    }
   ],
   "source": [
    "x <- seq(0,10,0.2)\n",
    "a <- 2.5\n",
    "b <- 1\n",
    "sd <- 2\n",
    "y <- a * x + b + rnorm(length(x), sd = sd)\n",
    "plot(x, y)"
   ]
  },
  {
   "cell_type": "markdown",
   "metadata": {},
   "source": [
    "### Implementação do Adaline\n",
    "\n",
    "Como no caso do Perceptron, foi implementada uma função de treinamento para o Adaline. Por ser extremamente similar à função de treinamento do Perceptron, ela não será detalhada. Destaca-se somente a utilização da função identidade como ativação do neurônio, que culmina no cálculo de $\\hat{y}$ seguindo a equação:\n",
    "\\begin{equation}\n",
    "\\hat{y} = \\sum w_i x_i\n",
    "\\end{equation}"
   ]
  },
  {
   "cell_type": "code",
   "execution_count": 106,
   "metadata": {},
   "outputs": [],
   "source": [
    "train_adaline <- function(data, \n",
    "                          eta, \n",
    "                          tol,\n",
    "                          nepochs,\n",
    "                          shuffle_data = T){\n",
    "# This function assumes the bias term has already \n",
    "# been added if necessary and the classes of each \n",
    "# observation are in the last column of the input data.\n",
    "    \n",
    "    nrows <- dim(data)[1] \n",
    "    ndims <- dim(data)[2]-1\n",
    "    error_vec <- matrix(0, nrow=1, ncol=nepochs)\n",
    "\n",
    "    # Randomly initializes weight vector\n",
    "    W <- as.matrix(runif(ndims, -1, 1), nrow=ndims, ncol=1)\n",
    "    \n",
    "    for (epoch in 1:nepochs){\n",
    "        \n",
    "        # Shuffles data\n",
    "        if(shuffle_data){\n",
    "            data_seq <- data[sample(nrows),]\n",
    "        } else {\n",
    "            data_seq <- data\n",
    "        }\n",
    "\n",
    "        # Loops over data\n",
    "        for(row in 1:nrows){\n",
    "            \n",
    "            xi <- t(data_seq[row,1:ndims])\n",
    "            yi <- data_seq[row, ndims+1]\n",
    "            \n",
    "            # Calculates yhat\n",
    "            yhat <- xi %*% W\n",
    "            # Compares with true y\n",
    "            error <- as.vector(yi - yhat)\n",
    "#             cat(sprintf(\"%i %i %i\\n\", yi, yhat, error))\n",
    "            # Adjusts weight vector\n",
    "            dw <- t(eta * error * xi)\n",
    "            W <- W + dw\n",
    "            # Accumulates error\n",
    "            error_vec[epoch] <- error_vec[epoch] + abs(error) \n",
    "        }\n",
    "        \n",
    "        # Stopping criteria: error smaller than tolerance\n",
    "        if (error_vec[epoch] < tol){\n",
    "            print(\"Stopping due to error smaller than tol.\")\n",
    "            break\n",
    "        }\n",
    "    }\n",
    "    return(list(\"weights\" = W, \"errors\" = error_vec))\n",
    "}\n"
   ]
  },
  {
   "cell_type": "markdown",
   "metadata": {},
   "source": [
    "Para avaliar o adaline em novas entradas e analisar os resultados da regressão, foi criada a função evaluate_adaline, que também é similar à evaluate_perceptron mas retorna o erro quadrático médio ao invés das métricas de classificação."
   ]
  },
  {
   "cell_type": "code",
   "execution_count": 107,
   "metadata": {},
   "outputs": [],
   "source": [
    "evaluate_adaline <- function(adaline, data){\n",
    "# This function assumes the bias term has already \n",
    "# been added if necessary and the classes of each \n",
    "# observation are in the last column of the input data.\n",
    "    \n",
    "    nrows <- dim(data)[1] \n",
    "    ndims <- dim(data)[2] -1 \n",
    "\n",
    "    # Randomly initializes weight vector\n",
    "    W <- adaline$weights\n",
    "    yhat_vec <- matrix(nrow=nrow(data))\n",
    "    # Loops over data\n",
    "    for(row in 1:nrows){\n",
    "\n",
    "        xi <- t(data[row, 1:ndims])\n",
    "        # Calculates yhat\n",
    "        yhat_vec[row] <- xi %*% W\n",
    "    }\n",
    "    \n",
    "    mse = mean((yhat_vec - data[,ndims+1])^2) \n",
    "    \n",
    "    return(list(\"yhat\" = yhat_vec, \"mse\" = mse))\n",
    "}\n"
   ]
  },
  {
   "cell_type": "markdown",
   "metadata": {},
   "source": [
    "Aplicando as funções de treinamento e avaliação nos dados gerados, obtém-se a seguinte reta:"
   ]
  },
  {
   "cell_type": "code",
   "execution_count": 108,
   "metadata": {},
   "outputs": [
    {
     "data": {
      "image/png": "[encoded data removed]",
      "text/plain": [
       "plot without title"
      ]
     },
     "metadata": {},
     "output_type": "display_data"
    }
   ],
   "source": [
    "adaline = train_adaline(data=data.matrix(cbind(1, x, y)),\n",
    "             eta = 0.001,\n",
    "             tol = 0.0001,\n",
    "             nepochs = 20)\n",
    "\n",
    "results <- evaluate_adaline(adaline, cbind(1,x,y))\n",
    "plot(x,y, xlim=c(0,10), ylim=c(0,25))\n",
    "par(new=T)\n",
    "plot(x,results$yhat, type='l', col='red', xlim=c(0,10), ylim=c(0,25))"
   ]
  },
  {
   "cell_type": "markdown",
   "metadata": {},
   "source": [
    "E o ero quadrático médio:"
   ]
  },
  {
   "cell_type": "code",
   "execution_count": 109,
   "metadata": {},
   "outputs": [
    {
     "data": {
      "text/html": [
       "2.98749403909389"
      ],
      "text/latex": [
       "2.98749403909389"
      ],
      "text/markdown": [
       "2.98749403909389"
      ],
      "text/plain": [
       "[1] 2.987494"
      ]
     },
     "metadata": {},
     "output_type": "display_data"
    }
   ],
   "source": [
    "results$mse"
   ]
  },
  {
   "cell_type": "markdown",
   "metadata": {},
   "source": [
    "### Comparando o erro quadrático médio e a variância do ruído com o aumento do número de pontos"
   ]
  },
  {
   "cell_type": "code",
   "execution_count": 113,
   "metadata": {},
   "outputs": [],
   "source": [
    "a <- 2.5\n",
    "b <- 1\n",
    "sd <- 2\n",
    "\n",
    "length_vec <- as.vector(c(10, 50, 100, 500, 1000, 5000))\n",
    "l <- length(length_vec)\n",
    "mse_vec <- matrix(0, nrow = 1, ncol = l)\n",
    "\n",
    "for (i in 1:l) {\n",
    "    x <- seq(0,10,length=length_vec[i])\n",
    "    y <- a * x + b + rnorm(length(x), sd = sd)\n",
    "    adaline_exp = train_adaline(data=data.matrix(cbind(1, x, y)),\n",
    "             eta = 0.001,\n",
    "             tol = 0.0001,\n",
    "             nepochs = 20)\n",
    "\n",
    "    results_exp <- evaluate_adaline(adaline_exp, cbind(1,x,y))\n",
    "    mse_vec[i] <- results_exp$mse\n",
    "}"
   ]
  },
  {
   "cell_type": "code",
   "execution_count": 114,
   "metadata": {},
   "outputs": [
    {
     "data": {
      "text/html": [
       "<table>\n",
       "<tbody>\n",
       "\t<tr><th scope=row>Length</th><td>10.000000  </td><td>50.000000  </td><td>100.000000 </td><td>500.000000 </td><td>1000.000000</td><td>5000.000000</td></tr>\n",
       "\t<tr><th scope=row>Error</th><td> 4.214544  </td><td> 2.316156  </td><td>  4.174968 </td><td>  4.053985 </td><td>   3.929347</td><td>   3.954323</td></tr>\n",
       "</tbody>\n",
       "</table>\n"
      ],
      "text/latex": [
       "\\begin{tabular}{r|llllll}\n",
       "\tLength & 10.000000   & 50.000000   & 100.000000  & 500.000000  & 1000.000000 & 5000.000000\\\\\n",
       "\tError &  4.214544   &  2.316156   &   4.174968  &   4.053985  &    3.929347 &    3.954323\\\\\n",
       "\\end{tabular}\n"
      ],
      "text/markdown": [
       "\n",
       "| Length | 10.000000   | 50.000000   | 100.000000  | 500.000000  | 1000.000000 | 5000.000000 |\n",
       "| Error |  4.214544   |  2.316156   |   4.174968  |   4.053985  |    3.929347 |    3.954323 |\n",
       "\n"
      ],
      "text/plain": [
       "       [,1]      [,2]      [,3]       [,4]       [,5]        [,6]       \n",
       "Length 10.000000 50.000000 100.000000 500.000000 1000.000000 5000.000000\n",
       "Error   4.214544  2.316156   4.174968   4.053985    3.929347    3.954323"
      ]
     },
     "metadata": {},
     "output_type": "display_data"
    }
   ],
   "source": [
    "df <- data.frame(\"Length\" = as.integer(length_vec), \"Error\" = as.vector(mse_vec))\n",
    "t(df)"
   ]
  },
  {
   "cell_type": "markdown",
   "metadata": {},
   "source": [
    "Percebe-se que o erro quadrático médio se aproxima muito, e mais consistentemente, da variância do ruído com o aumento do número de pontos! No caso com mais pontos (5.000) o erro quadrático médio foi 3.95 enquanto a variância do ruído é de $sd^2=2^2=4$."
   ]
  },
  {
   "cell_type": "markdown",
   "metadata": {},
   "source": [
    "## Exercicio 2 - b) Building"
   ]
  },
  {
   "cell_type": "markdown",
   "metadata": {},
   "source": [
    "Carregando e visualizando os dados fornecidos (base de dados Building):"
   ]
  },
  {
   "cell_type": "code",
   "execution_count": 115,
   "metadata": {},
   "outputs": [
    {
     "data": {
      "image/png": "[encoded data removed]",
      "text/plain": [
       "plot without title"
      ]
     },
     "metadata": {},
     "output_type": "display_data"
    },
    {
     "data": {
      "image/png": "[encoded data removed]",
      "text/plain": [
       "plot without title"
      ]
     },
     "metadata": {},
     "output_type": "display_data"
    },
    {
     "data": {
      "image/png": "[encoded data removed]",
      "text/plain": [
       "plot without title"
      ]
     },
     "metadata": {},
     "output_type": "display_data"
    }
   ],
   "source": [
    "#  Training data \n",
    "#  14 coded inputs :\n",
    "#    MONTH  DAY  YEAR  HOUR  TEMP  HUMID  SOLAR  WIND  WBE  WBCW  WBHW\n",
    "#  3 outputs (Consumption of) :\n",
    "#    Electrical Energy Hot Water Cold Water\n",
    "# bool_in=0\n",
    "# real_in=14\n",
    "# bool_out=0\n",
    "# real_out=3\n",
    "# training_examples=2104\n",
    "# validation_examples=1052\n",
    "# test_examples=1052\n",
    "\n",
    "mydata = read.csv(\"BUILDING1paraR.DT\", sep=\" \")\n",
    "\n",
    "plot(mydata$Energy,type=\"l\")\n",
    "plot(mydata$Hot_Water,type=\"l\")\n",
    "plot(mydata$Cold_Water,type=\"l\")"
   ]
  },
  {
   "cell_type": "code",
   "execution_count": 116,
   "metadata": {},
   "outputs": [
    {
     "data": {
      "text/html": [
       "<table>\n",
       "<thead><tr><th scope=col>V1</th><th scope=col>V2</th><th scope=col>V3</th><th scope=col>V4</th><th scope=col>V5</th><th scope=col>V6</th><th scope=col>V7</th><th scope=col>V8</th><th scope=col>V9</th><th scope=col>V10</th><th scope=col>V11</th><th scope=col>V12</th><th scope=col>V13</th><th scope=col>V14</th><th scope=col>Energy</th><th scope=col>Hot_Water</th><th scope=col>Cold_Water</th></tr></thead>\n",
       "<tbody>\n",
       "\t<tr><td>1         </td><td>0         </td><td>0         </td><td>0         </td><td>0         </td><td>0         </td><td>0         </td><td>0.833333  </td><td>-0.826087 </td><td>1         </td><td>0.819     </td><td>0.736     </td><td>0.00943396</td><td>0.272143  </td><td>0.343433  </td><td>0.6150    </td><td>0.122727  </td></tr>\n",
       "\t<tr><td>1         </td><td>0         </td><td>0         </td><td>0         </td><td>0         </td><td>0         </td><td>0         </td><td>0.750000  </td><td>-0.739130 </td><td>1         </td><td>0.807     </td><td>0.748     </td><td>0.00943396</td><td>0.283571  </td><td>0.344118  </td><td>0.6075    </td><td>0.132955  </td></tr>\n",
       "\t<tr><td>1         </td><td>0         </td><td>0         </td><td>0         </td><td>0         </td><td>0         </td><td>0         </td><td>0.666667  </td><td>-0.652174 </td><td>1         </td><td>0.797     </td><td>0.776     </td><td>0.00943396</td><td>0.275714  </td><td>0.343848  </td><td>0.6075    </td><td>0.132955  </td></tr>\n",
       "\t<tr><td>1         </td><td>0         </td><td>0         </td><td>0         </td><td>0         </td><td>0         </td><td>0         </td><td>0.583333  </td><td>-0.565217 </td><td>1         </td><td>0.790     </td><td>0.788     </td><td>0.00952830</td><td>0.217143  </td><td>0.342374  </td><td>0.6075    </td><td>0.143182  </td></tr>\n",
       "\t<tr><td>1         </td><td>0         </td><td>0         </td><td>0         </td><td>0         </td><td>0         </td><td>0         </td><td>0.500000  </td><td>-0.478261 </td><td>1         </td><td>0.789     </td><td>0.796     </td><td>0.00952830</td><td>0.202857  </td><td>0.344832  </td><td>0.6000    </td><td>0.143182  </td></tr>\n",
       "\t<tr><td>1         </td><td>0         </td><td>0         </td><td>0         </td><td>0         </td><td>0         </td><td>0         </td><td>0.416667  </td><td>-0.391304 </td><td>1         </td><td>0.785     </td><td>0.808     </td><td>0.00990566</td><td>0.138214  </td><td>0.357895  </td><td>0.6000    </td><td>0.143182  </td></tr>\n",
       "</tbody>\n",
       "</table>\n"
      ],
      "text/latex": [
       "\\begin{tabular}{r|lllllllllllllllll}\n",
       " V1 & V2 & V3 & V4 & V5 & V6 & V7 & V8 & V9 & V10 & V11 & V12 & V13 & V14 & Energy & Hot\\_Water & Cold\\_Water\\\\\n",
       "\\hline\n",
       "\t 1          & 0          & 0          & 0          & 0          & 0          & 0          & 0.833333   & -0.826087  & 1          & 0.819      & 0.736      & 0.00943396 & 0.272143   & 0.343433   & 0.6150     & 0.122727  \\\\\n",
       "\t 1          & 0          & 0          & 0          & 0          & 0          & 0          & 0.750000   & -0.739130  & 1          & 0.807      & 0.748      & 0.00943396 & 0.283571   & 0.344118   & 0.6075     & 0.132955  \\\\\n",
       "\t 1          & 0          & 0          & 0          & 0          & 0          & 0          & 0.666667   & -0.652174  & 1          & 0.797      & 0.776      & 0.00943396 & 0.275714   & 0.343848   & 0.6075     & 0.132955  \\\\\n",
       "\t 1          & 0          & 0          & 0          & 0          & 0          & 0          & 0.583333   & -0.565217  & 1          & 0.790      & 0.788      & 0.00952830 & 0.217143   & 0.342374   & 0.6075     & 0.143182  \\\\\n",
       "\t 1          & 0          & 0          & 0          & 0          & 0          & 0          & 0.500000   & -0.478261  & 1          & 0.789      & 0.796      & 0.00952830 & 0.202857   & 0.344832   & 0.6000     & 0.143182  \\\\\n",
       "\t 1          & 0          & 0          & 0          & 0          & 0          & 0          & 0.416667   & -0.391304  & 1          & 0.785      & 0.808      & 0.00990566 & 0.138214   & 0.357895   & 0.6000     & 0.143182  \\\\\n",
       "\\end{tabular}\n"
      ],
      "text/markdown": [
       "\n",
       "| V1 | V2 | V3 | V4 | V5 | V6 | V7 | V8 | V9 | V10 | V11 | V12 | V13 | V14 | Energy | Hot_Water | Cold_Water |\n",
       "|---|---|---|---|---|---|---|---|---|---|---|---|---|---|---|---|---|\n",
       "| 1          | 0          | 0          | 0          | 0          | 0          | 0          | 0.833333   | -0.826087  | 1          | 0.819      | 0.736      | 0.00943396 | 0.272143   | 0.343433   | 0.6150     | 0.122727   |\n",
       "| 1          | 0          | 0          | 0          | 0          | 0          | 0          | 0.750000   | -0.739130  | 1          | 0.807      | 0.748      | 0.00943396 | 0.283571   | 0.344118   | 0.6075     | 0.132955   |\n",
       "| 1          | 0          | 0          | 0          | 0          | 0          | 0          | 0.666667   | -0.652174  | 1          | 0.797      | 0.776      | 0.00943396 | 0.275714   | 0.343848   | 0.6075     | 0.132955   |\n",
       "| 1          | 0          | 0          | 0          | 0          | 0          | 0          | 0.583333   | -0.565217  | 1          | 0.790      | 0.788      | 0.00952830 | 0.217143   | 0.342374   | 0.6075     | 0.143182   |\n",
       "| 1          | 0          | 0          | 0          | 0          | 0          | 0          | 0.500000   | -0.478261  | 1          | 0.789      | 0.796      | 0.00952830 | 0.202857   | 0.344832   | 0.6000     | 0.143182   |\n",
       "| 1          | 0          | 0          | 0          | 0          | 0          | 0          | 0.416667   | -0.391304  | 1          | 0.785      | 0.808      | 0.00990566 | 0.138214   | 0.357895   | 0.6000     | 0.143182   |\n",
       "\n"
      ],
      "text/plain": [
       "  V1 V2 V3 V4 V5 V6 V7 V8       V9        V10 V11   V12   V13        V14     \n",
       "1 1  0  0  0  0  0  0  0.833333 -0.826087 1   0.819 0.736 0.00943396 0.272143\n",
       "2 1  0  0  0  0  0  0  0.750000 -0.739130 1   0.807 0.748 0.00943396 0.283571\n",
       "3 1  0  0  0  0  0  0  0.666667 -0.652174 1   0.797 0.776 0.00943396 0.275714\n",
       "4 1  0  0  0  0  0  0  0.583333 -0.565217 1   0.790 0.788 0.00952830 0.217143\n",
       "5 1  0  0  0  0  0  0  0.500000 -0.478261 1   0.789 0.796 0.00952830 0.202857\n",
       "6 1  0  0  0  0  0  0  0.416667 -0.391304 1   0.785 0.808 0.00990566 0.138214\n",
       "  Energy   Hot_Water Cold_Water\n",
       "1 0.343433 0.6150    0.122727  \n",
       "2 0.344118 0.6075    0.132955  \n",
       "3 0.343848 0.6075    0.132955  \n",
       "4 0.342374 0.6075    0.143182  \n",
       "5 0.344832 0.6000    0.143182  \n",
       "6 0.357895 0.6000    0.143182  "
      ]
     },
     "metadata": {},
     "output_type": "display_data"
    }
   ],
   "source": [
    "head(mydata)"
   ]
  },
  {
   "cell_type": "markdown",
   "metadata": {},
   "source": [
    "Percebe-se que há 14 variáveis de entrada e 3 saídas. Elas serão separadas para serem preditas individualmente e a coluna de 1's (bias unit) será adicionada."
   ]
  },
  {
   "cell_type": "code",
   "execution_count": 117,
   "metadata": {},
   "outputs": [
    {
     "data": {
      "text/html": [
       "<table>\n",
       "<thead><tr><th scope=col>1</th><th scope=col>V1</th><th scope=col>V2</th><th scope=col>V3</th><th scope=col>V4</th><th scope=col>V5</th><th scope=col>V6</th><th scope=col>V7</th><th scope=col>V8</th><th scope=col>V9</th><th scope=col>V10</th><th scope=col>V11</th><th scope=col>V12</th><th scope=col>V13</th><th scope=col>V14</th></tr></thead>\n",
       "<tbody>\n",
       "\t<tr><td>1         </td><td>1         </td><td>0         </td><td>0         </td><td>0         </td><td>0         </td><td>0         </td><td>0         </td><td>0.833333  </td><td>-0.826087 </td><td>1         </td><td>0.819     </td><td>0.736     </td><td>0.00943396</td><td>0.272143  </td></tr>\n",
       "\t<tr><td>1         </td><td>1         </td><td>0         </td><td>0         </td><td>0         </td><td>0         </td><td>0         </td><td>0         </td><td>0.750000  </td><td>-0.739130 </td><td>1         </td><td>0.807     </td><td>0.748     </td><td>0.00943396</td><td>0.283571  </td></tr>\n",
       "\t<tr><td>1         </td><td>1         </td><td>0         </td><td>0         </td><td>0         </td><td>0         </td><td>0         </td><td>0         </td><td>0.666667  </td><td>-0.652174 </td><td>1         </td><td>0.797     </td><td>0.776     </td><td>0.00943396</td><td>0.275714  </td></tr>\n",
       "\t<tr><td>1         </td><td>1         </td><td>0         </td><td>0         </td><td>0         </td><td>0         </td><td>0         </td><td>0         </td><td>0.583333  </td><td>-0.565217 </td><td>1         </td><td>0.790     </td><td>0.788     </td><td>0.00952830</td><td>0.217143  </td></tr>\n",
       "\t<tr><td>1         </td><td>1         </td><td>0         </td><td>0         </td><td>0         </td><td>0         </td><td>0         </td><td>0         </td><td>0.500000  </td><td>-0.478261 </td><td>1         </td><td>0.789     </td><td>0.796     </td><td>0.00952830</td><td>0.202857  </td></tr>\n",
       "\t<tr><td>1         </td><td>1         </td><td>0         </td><td>0         </td><td>0         </td><td>0         </td><td>0         </td><td>0         </td><td>0.416667  </td><td>-0.391304 </td><td>1         </td><td>0.785     </td><td>0.808     </td><td>0.00990566</td><td>0.138214  </td></tr>\n",
       "</tbody>\n",
       "</table>\n"
      ],
      "text/latex": [
       "\\begin{tabular}{lllllllllllllll}\n",
       " 1 & V1 & V2 & V3 & V4 & V5 & V6 & V7 & V8 & V9 & V10 & V11 & V12 & V13 & V14\\\\\n",
       "\\hline\n",
       "\t 1          & 1          & 0          & 0          & 0          & 0          & 0          & 0          & 0.833333   & -0.826087  & 1          & 0.819      & 0.736      & 0.00943396 & 0.272143  \\\\\n",
       "\t 1          & 1          & 0          & 0          & 0          & 0          & 0          & 0          & 0.750000   & -0.739130  & 1          & 0.807      & 0.748      & 0.00943396 & 0.283571  \\\\\n",
       "\t 1          & 1          & 0          & 0          & 0          & 0          & 0          & 0          & 0.666667   & -0.652174  & 1          & 0.797      & 0.776      & 0.00943396 & 0.275714  \\\\\n",
       "\t 1          & 1          & 0          & 0          & 0          & 0          & 0          & 0          & 0.583333   & -0.565217  & 1          & 0.790      & 0.788      & 0.00952830 & 0.217143  \\\\\n",
       "\t 1          & 1          & 0          & 0          & 0          & 0          & 0          & 0          & 0.500000   & -0.478261  & 1          & 0.789      & 0.796      & 0.00952830 & 0.202857  \\\\\n",
       "\t 1          & 1          & 0          & 0          & 0          & 0          & 0          & 0          & 0.416667   & -0.391304  & 1          & 0.785      & 0.808      & 0.00990566 & 0.138214  \\\\\n",
       "\\end{tabular}\n"
      ],
      "text/markdown": [
       "\n",
       "| 1 | V1 | V2 | V3 | V4 | V5 | V6 | V7 | V8 | V9 | V10 | V11 | V12 | V13 | V14 |\n",
       "|---|---|---|---|---|---|---|---|---|---|---|---|---|---|---|\n",
       "| 1          | 1          | 0          | 0          | 0          | 0          | 0          | 0          | 0.833333   | -0.826087  | 1          | 0.819      | 0.736      | 0.00943396 | 0.272143   |\n",
       "| 1          | 1          | 0          | 0          | 0          | 0          | 0          | 0          | 0.750000   | -0.739130  | 1          | 0.807      | 0.748      | 0.00943396 | 0.283571   |\n",
       "| 1          | 1          | 0          | 0          | 0          | 0          | 0          | 0          | 0.666667   | -0.652174  | 1          | 0.797      | 0.776      | 0.00943396 | 0.275714   |\n",
       "| 1          | 1          | 0          | 0          | 0          | 0          | 0          | 0          | 0.583333   | -0.565217  | 1          | 0.790      | 0.788      | 0.00952830 | 0.217143   |\n",
       "| 1          | 1          | 0          | 0          | 0          | 0          | 0          | 0          | 0.500000   | -0.478261  | 1          | 0.789      | 0.796      | 0.00952830 | 0.202857   |\n",
       "| 1          | 1          | 0          | 0          | 0          | 0          | 0          | 0          | 0.416667   | -0.391304  | 1          | 0.785      | 0.808      | 0.00990566 | 0.138214   |\n",
       "\n"
      ],
      "text/plain": [
       "     1 V1 V2 V3 V4 V5 V6 V7 V8       V9        V10 V11   V12   V13       \n",
       "[1,] 1 1  0  0  0  0  0  0  0.833333 -0.826087 1   0.819 0.736 0.00943396\n",
       "[2,] 1 1  0  0  0  0  0  0  0.750000 -0.739130 1   0.807 0.748 0.00943396\n",
       "[3,] 1 1  0  0  0  0  0  0  0.666667 -0.652174 1   0.797 0.776 0.00943396\n",
       "[4,] 1 1  0  0  0  0  0  0  0.583333 -0.565217 1   0.790 0.788 0.00952830\n",
       "[5,] 1 1  0  0  0  0  0  0  0.500000 -0.478261 1   0.789 0.796 0.00952830\n",
       "[6,] 1 1  0  0  0  0  0  0  0.416667 -0.391304 1   0.785 0.808 0.00990566\n",
       "     V14     \n",
       "[1,] 0.272143\n",
       "[2,] 0.283571\n",
       "[3,] 0.275714\n",
       "[4,] 0.217143\n",
       "[5,] 0.202857\n",
       "[6,] 0.138214"
      ]
     },
     "metadata": {},
     "output_type": "display_data"
    }
   ],
   "source": [
    "# Removing Output variables\n",
    "building_data <- mydata[,!names(mydata) %in% c(\"Energy\", \"Hot_Water\", \"Cold_Water\")]\n",
    "# Adding 1 column and numeric class\n",
    "building_data <- cbind(1, building_data)\n",
    "# Converting to numeric matrix\n",
    "building_data <- data.matrix(building_data)\n",
    "head(building_data)"
   ]
  },
  {
   "cell_type": "markdown",
   "metadata": {},
   "source": [
    "### Treinando e Avaliando:\n",
    "\n",
    "Abaixo estão os parâmetros de treinamento e resultados para cada uma das saídas. Os gráficos mostram o erro em cada época e a função aproximada. Para melhor visualização, apenas um trecho da predição foi plotado pois há muitos pontos na base de dados.\n",
    "\n",
    "#### 1) Energy"
   ]
  },
  {
   "cell_type": "code",
   "execution_count": 118,
   "metadata": {},
   "outputs": [
    {
     "data": {
      "image/png": "[encoded data removed]",
      "text/plain": [
       "Plot with title \"Energy Error\""
      ]
     },
     "metadata": {},
     "output_type": "display_data"
    },
    {
     "data": {
      "image/png": "[encoded data removed]",
      "text/plain": [
       "Plot with title \"Energy\""
      ]
     },
     "metadata": {},
     "output_type": "display_data"
    }
   ],
   "source": [
    "building_energy <- cbind(building_data, mydata$Energy)\n",
    "nepochs = 100\n",
    "adaline_energy = train_adaline(data=data.matrix(building_energy),\n",
    "             eta = 0.001,\n",
    "             tol = 0.0001,\n",
    "             nepochs = nepochs)\n",
    "\n",
    "results_energy <- evaluate_adaline(adaline_energy, building_energy)\n",
    "plot(1:nepochs, adaline_energy$errors, 'l', main=\"Energy Error\", xlab=\"Epoch\", ylab=\"Mean Squared Error\")\n",
    "xlimplot=c(200,300)\n",
    "ylimplot=c(0,1)\n",
    "plot(mydata$Energy, type='l', xlim=xlimplot, ylim=ylimplot, ylab=\"\")\n",
    "par(new=T)\n",
    "plot(results_energy$yhat, col=\"red\", type='l', xlim=xlimplot, ylim=ylimplot, main=\"Energy\", ylab=\"Real (black) and Prediction (red)\")"
   ]
  },
  {
   "cell_type": "markdown",
   "metadata": {},
   "source": [
    "Erro quadrático médio obtido:"
   ]
  },
  {
   "cell_type": "code",
   "execution_count": 119,
   "metadata": {},
   "outputs": [
    {
     "data": {
      "text/html": [
       "0.0048259630595212"
      ],
      "text/latex": [
       "0.0048259630595212"
      ],
      "text/markdown": [
       "0.0048259630595212"
      ],
      "text/plain": [
       "[1] 0.004825963"
      ]
     },
     "metadata": {},
     "output_type": "display_data"
    }
   ],
   "source": [
    "results_energy$mse"
   ]
  },
  {
   "cell_type": "markdown",
   "metadata": {},
   "source": [
    "#### 2) Hot Water"
   ]
  },
  {
   "cell_type": "code",
   "execution_count": 120,
   "metadata": {},
   "outputs": [
    {
     "data": {
      "image/png": "[encoded data removed]",
      "text/plain": [
       "Plot with title \"Hot Water Error\""
      ]
     },
     "metadata": {},
     "output_type": "display_data"
    },
    {
     "data": {
      "image/png": "[encoded data removed]",
      "text/plain": [
       "Plot with title \"Hot Water\""
      ]
     },
     "metadata": {},
     "output_type": "display_data"
    }
   ],
   "source": [
    "building_hot <- cbind(building_data, mydata$Hot_Water)\n",
    "nepochs = 200\n",
    "adaline_hot = train_adaline(data=data.matrix(building_hot),\n",
    "             eta = 0.002,\n",
    "             tol = 0.0001,\n",
    "             nepochs = nepochs)\n",
    "results_hot <- evaluate_adaline(adaline_hot, building_hot)\n",
    "plot(1:nepochs, adaline_hot$errors, 'l', main=\"Hot Water Error\", xlab=\"Epoch\", ylab=\"Mean Squared Error\")\n",
    "xlimplot=c(200,400)\n",
    "ylimplot=c(0.4,0.7)\n",
    "plot(mydata$Hot_Water, type='l', xlim=xlimplot, ylim=ylimplot, ylab=\"\")\n",
    "par(new=T)\n",
    "plot(results_hot$yhat, col=\"red\", type='l', xlim=xlimplot, ylim=ylimplot, main=\"Hot Water\", ylab=\"Real (black) and Prediction (red)\")"
   ]
  },
  {
   "cell_type": "markdown",
   "metadata": {},
   "source": [
    "Erro quadrático médio obtido:"
   ]
  },
  {
   "cell_type": "code",
   "execution_count": 121,
   "metadata": {},
   "outputs": [
    {
     "data": {
      "text/html": [
       "0.00149209097801879"
      ],
      "text/latex": [
       "0.00149209097801879"
      ],
      "text/markdown": [
       "0.00149209097801879"
      ],
      "text/plain": [
       "[1] 0.001492091"
      ]
     },
     "metadata": {},
     "output_type": "display_data"
    }
   ],
   "source": [
    "results_hot$mse"
   ]
  },
  {
   "cell_type": "markdown",
   "metadata": {},
   "source": [
    "#### 3) Cold Water"
   ]
  },
  {
   "cell_type": "code",
   "execution_count": 124,
   "metadata": {},
   "outputs": [
    {
     "data": {
      "image/png": "[encoded data removed]",
      "text/plain": [
       "Plot with title \"Cold Water Error\""
      ]
     },
     "metadata": {},
     "output_type": "display_data"
    },
    {
     "data": {
      "image/png": "[encoded data removed]",
      "text/plain": [
       "Plot with title \"Cold Water\""
      ]
     },
     "metadata": {},
     "output_type": "display_data"
    }
   ],
   "source": [
    "building_cold <- cbind(building_data, mydata$Cold_Water)\n",
    "nepochs = 200\n",
    "adaline_cold <- train_adaline(data=data.matrix(building_cold),\n",
    "             eta = 0.001,\n",
    "             tol = 0.00001,\n",
    "             nepochs = nepochs)\n",
    "plot(1:nepochs, adaline_cold$errors, 'l', main=\"Cold Water Error\", xlab=\"Epoch\", ylab=\"Mean Squared Error\")\n",
    "results_cold <- evaluate_adaline(adaline_cold, building_cold)\n",
    "xlimplot=c(0,200)\n",
    "ylimplot=c(0,0.2)\n",
    "plot(mydata$Cold_Water, type='l', xlim=xlimplot, ylim=ylimplot, ylab=\"\")\n",
    "par(new=T)\n",
    "plot(results_cold$yhat, col=\"red\", type='l', xlim=xlimplot, ylim=ylimplot, main=\"Cold Water\", ylab=\"Real (black) and Prediction (red)\")"
   ]
  },
  {
   "cell_type": "markdown",
   "metadata": {},
   "source": [
    "Erro quadrático médio obtido:"
   ]
  },
  {
   "cell_type": "code",
   "execution_count": 125,
   "metadata": {},
   "outputs": [
    {
     "data": {
      "text/html": [
       "0.00401872241466919"
      ],
      "text/latex": [
       "0.00401872241466919"
      ],
      "text/markdown": [
       "0.00401872241466919"
      ],
      "text/plain": [
       "[1] 0.004018722"
      ]
     },
     "metadata": {},
     "output_type": "display_data"
    }
   ],
   "source": [
    "results_cold$mse"
   ]
  }
 ],
 "metadata": {
  "hide_input": false,
  "kernelspec": {
   "display_name": "R",
   "language": "R",
   "name": "ir"
  },
  "language_info": {
   "codemirror_mode": "r",
   "file_extension": ".r",
   "mimetype": "text/x-r-source",
   "name": "R",
   "pygments_lexer": "r",
   "version": "3.6.1"
  }
 },
 "nbformat": 4,
 "nbformat_minor": 2
}
