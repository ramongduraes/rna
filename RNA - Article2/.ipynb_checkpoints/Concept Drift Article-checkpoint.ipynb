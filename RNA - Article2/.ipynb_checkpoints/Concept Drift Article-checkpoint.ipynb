{
 "cells": [
  {
   "cell_type": "markdown",
   "metadata": {},
   "source": [
    "# Datasets"
   ]
  },
  {
   "cell_type": "markdown",
   "metadata": {},
   "source": [
    "## Hyperplane"
   ]
  },
  {
   "cell_type": "code",
   "execution_count": null,
   "metadata": {},
   "outputs": [],
   "source": [
    "X <- read.csv('./data/X_hyperplane.txt')\n",
    "y <- read.csv('./data/y_hyperplane.txt')"
   ]
  },
  {
   "cell_type": "code",
   "execution_count": 20,
   "metadata": {},
   "outputs": [
    {
     "data": {
      "text/html": [
       "<table>\n",
       "<thead><tr><th scope=col>X1.000000</th><th scope=col>X0.093868</th><th scope=col>X0.161024</th><th scope=col>X0.042891</th><th scope=col>X0.193369</th><th scope=col>X0.259702</th><th scope=col>X0.238029</th><th scope=col>X0.288670</th><th scope=col>X0.088480</th><th scope=col>X0.015798</th><th scope=col>X0.208414</th><th scope=col>X.1</th></tr></thead>\n",
       "<tbody>\n",
       "\t<tr><td>1       </td><td>0.075217</td><td>0.220267</td><td>0.313818</td><td>0.047938</td><td>0.287715</td><td>0.124056</td><td>0.174504</td><td>0.000452</td><td>0.307160</td><td>0.161264</td><td> 1      </td></tr>\n",
       "\t<tr><td>1       </td><td>0.252066</td><td>0.208755</td><td>0.101923</td><td>0.101454</td><td>0.077649</td><td>0.181364</td><td>0.041195</td><td>0.192161</td><td>0.300272</td><td>0.089829</td><td> 1      </td></tr>\n",
       "\t<tr><td>1       </td><td>0.291396</td><td>0.156596</td><td>0.218785</td><td>0.283576</td><td>0.073750</td><td>0.163271</td><td>0.024358</td><td>0.178220</td><td>0.272331</td><td>0.053795</td><td> 1      </td></tr>\n",
       "\t<tr><td>1       </td><td>0.084042</td><td>0.271118</td><td>0.044451</td><td>0.332682</td><td>0.078608</td><td>0.201786</td><td>0.179113</td><td>0.028998</td><td>0.028107</td><td>0.317181</td><td>-1      </td></tr>\n",
       "\t<tr><td>1       </td><td>0.134254</td><td>0.004762</td><td>0.193916</td><td>0.255062</td><td>0.331085</td><td>0.286490</td><td>0.315566</td><td>0.127973</td><td>0.251799</td><td>0.265944</td><td> 1      </td></tr>\n",
       "\t<tr><td>1       </td><td>0.087275</td><td>0.050349</td><td>0.071625</td><td>0.183312</td><td>0.064059</td><td>0.328955</td><td>0.314787</td><td>0.001371</td><td>0.215628</td><td>0.210916</td><td>-1      </td></tr>\n",
       "</tbody>\n",
       "</table>\n"
      ],
      "text/latex": [
       "\\begin{tabular}{r|llllllllllll}\n",
       " X1.000000 & X0.093868 & X0.161024 & X0.042891 & X0.193369 & X0.259702 & X0.238029 & X0.288670 & X0.088480 & X0.015798 & X0.208414 & X.1\\\\\n",
       "\\hline\n",
       "\t 1        & 0.075217 & 0.220267 & 0.313818 & 0.047938 & 0.287715 & 0.124056 & 0.174504 & 0.000452 & 0.307160 & 0.161264 &  1      \\\\\n",
       "\t 1        & 0.252066 & 0.208755 & 0.101923 & 0.101454 & 0.077649 & 0.181364 & 0.041195 & 0.192161 & 0.300272 & 0.089829 &  1      \\\\\n",
       "\t 1        & 0.291396 & 0.156596 & 0.218785 & 0.283576 & 0.073750 & 0.163271 & 0.024358 & 0.178220 & 0.272331 & 0.053795 &  1      \\\\\n",
       "\t 1        & 0.084042 & 0.271118 & 0.044451 & 0.332682 & 0.078608 & 0.201786 & 0.179113 & 0.028998 & 0.028107 & 0.317181 & -1      \\\\\n",
       "\t 1        & 0.134254 & 0.004762 & 0.193916 & 0.255062 & 0.331085 & 0.286490 & 0.315566 & 0.127973 & 0.251799 & 0.265944 &  1      \\\\\n",
       "\t 1        & 0.087275 & 0.050349 & 0.071625 & 0.183312 & 0.064059 & 0.328955 & 0.314787 & 0.001371 & 0.215628 & 0.210916 & -1      \\\\\n",
       "\\end{tabular}\n"
      ],
      "text/markdown": [
       "\n",
       "| X1.000000 | X0.093868 | X0.161024 | X0.042891 | X0.193369 | X0.259702 | X0.238029 | X0.288670 | X0.088480 | X0.015798 | X0.208414 | X.1 |\n",
       "|---|---|---|---|---|---|---|---|---|---|---|---|\n",
       "| 1        | 0.075217 | 0.220267 | 0.313818 | 0.047938 | 0.287715 | 0.124056 | 0.174504 | 0.000452 | 0.307160 | 0.161264 |  1       |\n",
       "| 1        | 0.252066 | 0.208755 | 0.101923 | 0.101454 | 0.077649 | 0.181364 | 0.041195 | 0.192161 | 0.300272 | 0.089829 |  1       |\n",
       "| 1        | 0.291396 | 0.156596 | 0.218785 | 0.283576 | 0.073750 | 0.163271 | 0.024358 | 0.178220 | 0.272331 | 0.053795 |  1       |\n",
       "| 1        | 0.084042 | 0.271118 | 0.044451 | 0.332682 | 0.078608 | 0.201786 | 0.179113 | 0.028998 | 0.028107 | 0.317181 | -1       |\n",
       "| 1        | 0.134254 | 0.004762 | 0.193916 | 0.255062 | 0.331085 | 0.286490 | 0.315566 | 0.127973 | 0.251799 | 0.265944 |  1       |\n",
       "| 1        | 0.087275 | 0.050349 | 0.071625 | 0.183312 | 0.064059 | 0.328955 | 0.314787 | 0.001371 | 0.215628 | 0.210916 | -1       |\n",
       "\n"
      ],
      "text/plain": [
       "  X1.000000 X0.093868 X0.161024 X0.042891 X0.193369 X0.259702 X0.238029\n",
       "1 1         0.075217  0.220267  0.313818  0.047938  0.287715  0.124056 \n",
       "2 1         0.252066  0.208755  0.101923  0.101454  0.077649  0.181364 \n",
       "3 1         0.291396  0.156596  0.218785  0.283576  0.073750  0.163271 \n",
       "4 1         0.084042  0.271118  0.044451  0.332682  0.078608  0.201786 \n",
       "5 1         0.134254  0.004762  0.193916  0.255062  0.331085  0.286490 \n",
       "6 1         0.087275  0.050349  0.071625  0.183312  0.064059  0.328955 \n",
       "  X0.288670 X0.088480 X0.015798 X0.208414 X.1\n",
       "1 0.174504  0.000452  0.307160  0.161264   1 \n",
       "2 0.041195  0.192161  0.300272  0.089829   1 \n",
       "3 0.024358  0.178220  0.272331  0.053795   1 \n",
       "4 0.179113  0.028998  0.028107  0.317181  -1 \n",
       "5 0.315566  0.127973  0.251799  0.265944   1 \n",
       "6 0.314787  0.001371  0.215628  0.210916  -1 "
      ]
     },
     "metadata": {},
     "output_type": "display_data"
    }
   ],
   "source": [
    "hyperplane <- cbind(X,y)\n",
    "head(hyperplane)"
   ]
  },
  {
   "cell_type": "markdown",
   "metadata": {},
   "source": [
    "## Electricity "
   ]
  },
  {
   "cell_type": "code",
   "execution_count": null,
   "metadata": {},
   "outputs": [],
   "source": [
    "library('foreign')\n",
    "electricity <- read.arff(\"./data/elecNormNew.arff\")"
   ]
  },
  {
   "cell_type": "code",
   "execution_count": 21,
   "metadata": {},
   "outputs": [
    {
     "data": {
      "text/html": [
       "<table>\n",
       "<thead><tr><th scope=col>1</th><th scope=col>date</th><th scope=col>day</th><th scope=col>period</th><th scope=col>nswprice</th><th scope=col>nswdemand</th><th scope=col>vicprice</th><th scope=col>vicdemand</th><th scope=col>transfer</th><th scope=col>class</th></tr></thead>\n",
       "<tbody>\n",
       "\t<tr><td>1       </td><td>0       </td><td>2       </td><td>0.000000</td><td>0.056443</td><td>0.439155</td><td>0.003467</td><td>0.422915</td><td>0.414912</td><td>UP      </td></tr>\n",
       "\t<tr><td>1       </td><td>0       </td><td>2       </td><td>0.021277</td><td>0.051699</td><td>0.415055</td><td>0.003467</td><td>0.422915</td><td>0.414912</td><td>UP      </td></tr>\n",
       "\t<tr><td>1       </td><td>0       </td><td>2       </td><td>0.042553</td><td>0.051489</td><td>0.385004</td><td>0.003467</td><td>0.422915</td><td>0.414912</td><td>UP      </td></tr>\n",
       "\t<tr><td>1       </td><td>0       </td><td>2       </td><td>0.063830</td><td>0.045485</td><td>0.314639</td><td>0.003467</td><td>0.422915</td><td>0.414912</td><td>UP      </td></tr>\n",
       "\t<tr><td>1       </td><td>0       </td><td>2       </td><td>0.085106</td><td>0.042482</td><td>0.251116</td><td>0.003467</td><td>0.422915</td><td>0.414912</td><td>DOWN    </td></tr>\n",
       "\t<tr><td>1       </td><td>0       </td><td>2       </td><td>0.106383</td><td>0.041161</td><td>0.207528</td><td>0.003467</td><td>0.422915</td><td>0.414912</td><td>DOWN    </td></tr>\n",
       "</tbody>\n",
       "</table>\n"
      ],
      "text/latex": [
       "\\begin{tabular}{r|llllllllll}\n",
       " 1 & date & day & period & nswprice & nswdemand & vicprice & vicdemand & transfer & class\\\\\n",
       "\\hline\n",
       "\t 1        & 0        & 2        & 0.000000 & 0.056443 & 0.439155 & 0.003467 & 0.422915 & 0.414912 & UP      \\\\\n",
       "\t 1        & 0        & 2        & 0.021277 & 0.051699 & 0.415055 & 0.003467 & 0.422915 & 0.414912 & UP      \\\\\n",
       "\t 1        & 0        & 2        & 0.042553 & 0.051489 & 0.385004 & 0.003467 & 0.422915 & 0.414912 & UP      \\\\\n",
       "\t 1        & 0        & 2        & 0.063830 & 0.045485 & 0.314639 & 0.003467 & 0.422915 & 0.414912 & UP      \\\\\n",
       "\t 1        & 0        & 2        & 0.085106 & 0.042482 & 0.251116 & 0.003467 & 0.422915 & 0.414912 & DOWN    \\\\\n",
       "\t 1        & 0        & 2        & 0.106383 & 0.041161 & 0.207528 & 0.003467 & 0.422915 & 0.414912 & DOWN    \\\\\n",
       "\\end{tabular}\n"
      ],
      "text/markdown": [
       "\n",
       "| 1 | date | day | period | nswprice | nswdemand | vicprice | vicdemand | transfer | class |\n",
       "|---|---|---|---|---|---|---|---|---|---|\n",
       "| 1        | 0        | 2        | 0.000000 | 0.056443 | 0.439155 | 0.003467 | 0.422915 | 0.414912 | UP       |\n",
       "| 1        | 0        | 2        | 0.021277 | 0.051699 | 0.415055 | 0.003467 | 0.422915 | 0.414912 | UP       |\n",
       "| 1        | 0        | 2        | 0.042553 | 0.051489 | 0.385004 | 0.003467 | 0.422915 | 0.414912 | UP       |\n",
       "| 1        | 0        | 2        | 0.063830 | 0.045485 | 0.314639 | 0.003467 | 0.422915 | 0.414912 | UP       |\n",
       "| 1        | 0        | 2        | 0.085106 | 0.042482 | 0.251116 | 0.003467 | 0.422915 | 0.414912 | DOWN     |\n",
       "| 1        | 0        | 2        | 0.106383 | 0.041161 | 0.207528 | 0.003467 | 0.422915 | 0.414912 | DOWN     |\n",
       "\n"
      ],
      "text/plain": [
       "  1 date day period   nswprice nswdemand vicprice vicdemand transfer class\n",
       "1 1 0    2   0.000000 0.056443 0.439155  0.003467 0.422915  0.414912 UP   \n",
       "2 1 0    2   0.021277 0.051699 0.415055  0.003467 0.422915  0.414912 UP   \n",
       "3 1 0    2   0.042553 0.051489 0.385004  0.003467 0.422915  0.414912 UP   \n",
       "4 1 0    2   0.063830 0.045485 0.314639  0.003467 0.422915  0.414912 UP   \n",
       "5 1 0    2   0.085106 0.042482 0.251116  0.003467 0.422915  0.414912 DOWN \n",
       "6 1 0    2   0.106383 0.041161 0.207528  0.003467 0.422915  0.414912 DOWN "
      ]
     },
     "metadata": {},
     "output_type": "display_data"
    }
   ],
   "source": [
    "electricity <- cbind(1, electricity)\n",
    "head(electricity)"
   ]
  },
  {
   "cell_type": "markdown",
   "metadata": {},
   "source": [
    "## KDD"
   ]
  },
  {
   "cell_type": "code",
   "execution_count": 16,
   "metadata": {},
   "outputs": [
    {
     "data": {
      "text/plain": [
       "       X0             tcp               http              SF        \n",
       " Min.   :    0.00   icmp:283602   ecr_i   :281400   SF     :378439  \n",
       " 1st Qu.:    0.00   tcp :190064   private :110893   S0     : 87007  \n",
       " Median :    0.00   udp : 20354   http    : 64292   REJ    : 26875  \n",
       " Mean   :   47.98                 smtp    :  9723   RSTR   :   903  \n",
       " 3rd Qu.:    0.00                 other   :  7237   RSTO   :   579  \n",
       " Max.   :58329.00                 domain_u:  5863   SH     :   107  \n",
       "                                  (Other) : 14612   (Other):   110  \n",
       "      X181               X5450              X0.1               X0.2         \n",
       " Min.   :        0   Min.   :      0   Min.   :0.00e+00   Min.   :0.000000  \n",
       " 1st Qu.:       45   1st Qu.:      0   1st Qu.:0.00e+00   1st Qu.:0.000000  \n",
       " Median :      520   Median :      0   Median :0.00e+00   Median :0.000000  \n",
       " Mean   :     3026   Mean   :    869   Mean   :4.45e-05   Mean   :0.006433  \n",
       " 3rd Qu.:     1032   3rd Qu.:      0   3rd Qu.:0.00e+00   3rd Qu.:0.000000  \n",
       " Max.   :693375640   Max.   :5155468   Max.   :1.00e+00   Max.   :3.000000  \n",
       "                                                                            \n",
       "      X0.3               X0.4               X0.5                X1        \n",
       " Min.   :0.00e+00   Min.   : 0.00000   Min.   :0.000000   Min.   :0.0000  \n",
       " 1st Qu.:0.00e+00   1st Qu.: 0.00000   1st Qu.:0.000000   1st Qu.:0.0000  \n",
       " Median :0.00e+00   Median : 0.00000   Median :0.000000   Median :0.0000  \n",
       " Mean   :1.42e-05   Mean   : 0.03452   Mean   :0.000152   Mean   :0.1482  \n",
       " 3rd Qu.:0.00e+00   3rd Qu.: 0.00000   3rd Qu.:0.000000   3rd Qu.:0.0000  \n",
       " Max.   :3.00e+00   Max.   :30.00000   Max.   :5.000000   Max.   :1.0000  \n",
       "                                                                          \n",
       "      X0.6               X0.7                X0.8               X0.9         \n",
       " Min.   :  0.0000   Min.   :0.0000000   Min.   :0.00e+00   Min.   :  0.0000  \n",
       " 1st Qu.:  0.0000   1st Qu.:0.0000000   1st Qu.:0.00e+00   1st Qu.:  0.0000  \n",
       " Median :  0.0000   Median :0.0000000   Median :0.00e+00   Median :  0.0000  \n",
       " Mean   :  0.0102   Mean   :0.0001113   Mean   :3.64e-05   Mean   :  0.0114  \n",
       " 3rd Qu.:  0.0000   3rd Qu.:0.0000000   3rd Qu.:0.00e+00   3rd Qu.:  0.0000  \n",
       " Max.   :884.0000   Max.   :1.0000000   Max.   :2.00e+00   Max.   :993.0000  \n",
       "                                                                             \n",
       "     X0.10               X0.12               X0.13              X0.14  \n",
       " Min.   : 0.000000   Min.   :0.0000000   Min.   :0.000000   Min.   :0  \n",
       " 1st Qu.: 0.000000   1st Qu.:0.0000000   1st Qu.:0.000000   1st Qu.:0  \n",
       " Median : 0.000000   Median :0.0000000   Median :0.000000   Median :0  \n",
       " Mean   : 0.001083   Mean   :0.0001093   Mean   :0.001008   Mean   :0  \n",
       " 3rd Qu.: 0.000000   3rd Qu.:0.0000000   3rd Qu.:0.000000   3rd Qu.:0  \n",
       " Max.   :28.000000   Max.   :2.0000000   Max.   :8.000000   Max.   :0  \n",
       "                                                                       \n",
       "     X0.15       X0.16                X8             X8.1      \n",
       " Min.   :0   Min.   :0.000000   Min.   :  0.0   Min.   :  0.0  \n",
       " 1st Qu.:0   1st Qu.:0.000000   1st Qu.:117.0   1st Qu.: 10.0  \n",
       " Median :0   Median :0.000000   Median :510.0   Median :510.0  \n",
       " Mean   :0   Mean   :0.001387   Mean   :332.3   Mean   :292.9  \n",
       " 3rd Qu.:0   3rd Qu.:0.000000   3rd Qu.:511.0   3rd Qu.:511.0  \n",
       " Max.   :0   Max.   :1.000000   Max.   :511.0   Max.   :511.0  \n",
       "                                                               \n",
       "     X0.00           X0.00.1          X0.00.2           X0.00.3       \n",
       " Min.   :0.0000   Min.   :0.0000   Min.   :0.00000   Min.   :0.00000  \n",
       " 1st Qu.:0.0000   1st Qu.:0.0000   1st Qu.:0.00000   1st Qu.:0.00000  \n",
       " Median :0.0000   Median :0.0000   Median :0.00000   Median :0.00000  \n",
       " Mean   :0.1767   Mean   :0.1766   Mean   :0.05743   Mean   :0.05772  \n",
       " 3rd Qu.:0.0000   3rd Qu.:0.0000   3rd Qu.:0.00000   3rd Qu.:0.00000  \n",
       " Max.   :1.0000   Max.   :1.0000   Max.   :1.00000   Max.   :1.00000  \n",
       "                                                                      \n",
       "     X1.00           X0.00.4           X0.00.5            X9       \n",
       " Min.   :0.0000   Min.   :0.00000   Min.   :0.000   Min.   :  0.0  \n",
       " 1st Qu.:1.0000   1st Qu.:0.00000   1st Qu.:0.000   1st Qu.:255.0  \n",
       " Median :1.0000   Median :0.00000   Median :0.000   Median :255.0  \n",
       " Mean   :0.7915   Mean   :0.02098   Mean   :0.029   Mean   :232.5  \n",
       " 3rd Qu.:1.0000   3rd Qu.:0.00000   3rd Qu.:0.000   3rd Qu.:255.0  \n",
       " Max.   :1.0000   Max.   :1.00000   Max.   :1.000   Max.   :255.0  \n",
       "                                                                   \n",
       "      X9.1          X1.00.1          X0.00.6            X0.11       \n",
       " Min.   :  0.0   Min.   :0.0000   Min.   :0.00000   Min.   :0.0000  \n",
       " 1st Qu.: 46.0   1st Qu.:0.4100   1st Qu.:0.00000   1st Qu.:0.0000  \n",
       " Median :255.0   Median :1.0000   Median :0.00000   Median :1.0000  \n",
       " Mean   :188.7   Mean   :0.7538   Mean   :0.03091   Mean   :0.6019  \n",
       " 3rd Qu.:255.0   3rd Qu.:1.0000   3rd Qu.:0.04000   3rd Qu.:1.0000  \n",
       " Max.   :255.0   Max.   :1.0000   Max.   :1.00000   Max.   :1.0000  \n",
       "                                                                    \n",
       "    X0.00.7            X0.00.8          X0.00.9          X0.00.10      \n",
       " Min.   :0.000000   Min.   :0.0000   Min.   :0.0000   Min.   :0.00000  \n",
       " 1st Qu.:0.000000   1st Qu.:0.0000   1st Qu.:0.0000   1st Qu.:0.00000  \n",
       " Median :0.000000   Median :0.0000   Median :0.0000   Median :0.00000  \n",
       " Mean   :0.006684   Mean   :0.1768   Mean   :0.1764   Mean   :0.05812  \n",
       " 3rd Qu.:0.000000   3rd Qu.:0.0000   3rd Qu.:0.0000   3rd Qu.:0.00000  \n",
       " Max.   :1.000000   Max.   :1.0000   Max.   :1.0000   Max.   :1.00000  \n",
       "                                                                       \n",
       "    X0.00.11            normal.      \n",
       " Min.   :0.00000   abnormal.:396743  \n",
       " 1st Qu.:0.00000   normal.  : 97277  \n",
       " Median :0.00000                     \n",
       " Mean   :0.05741                     \n",
       " 3rd Qu.:0.00000                     \n",
       " Max.   :1.00000                     \n",
       "                                     "
      ]
     },
     "metadata": {},
     "output_type": "display_data"
    }
   ],
   "source": [
    "kdd <- read.csv('./data/kddcup_data_10_percent.txt')\n",
    "summary(kdd)"
   ]
  },
  {
   "cell_type": "markdown",
   "metadata": {},
   "source": [
    "# Algorithm"
   ]
  },
  {
   "cell_type": "markdown",
   "metadata": {},
   "source": [
    "## Data Batch"
   ]
  },
  {
   "cell_type": "code",
   "execution_count": 25,
   "metadata": {},
   "outputs": [
    {
     "data": {
      "text/html": [
       "10"
      ],
      "text/latex": [
       "10"
      ],
      "text/markdown": [
       "10"
      ],
      "text/plain": [
       "[1] 10"
      ]
     },
     "metadata": {},
     "output_type": "display_data"
    }
   ],
   "source": [
    "5 * 2"
   ]
  },
  {
   "cell_type": "code",
   "execution_count": 30,
   "metadata": {},
   "outputs": [
    {
     "data": {
      "text/html": [
       "<table>\n",
       "<thead><tr><th scope=col>X1.000000</th><th scope=col>X0.093868</th><th scope=col>X0.161024</th><th scope=col>X0.042891</th><th scope=col>X0.193369</th><th scope=col>X0.259702</th><th scope=col>X0.238029</th><th scope=col>X0.288670</th><th scope=col>X0.088480</th><th scope=col>X0.015798</th><th scope=col>X0.208414</th><th scope=col>X.1</th></tr></thead>\n",
       "<tbody>\n",
       "\t<tr><td>1       </td><td>0.075217</td><td>0.220267</td><td>0.313818</td><td>0.047938</td><td>0.287715</td><td>0.124056</td><td>0.174504</td><td>0.000452</td><td>0.30716 </td><td>0.161264</td><td>1       </td></tr>\n",
       "</tbody>\n",
       "</table>\n"
      ],
      "text/latex": [
       "\\begin{tabular}{r|llllllllllll}\n",
       " X1.000000 & X0.093868 & X0.161024 & X0.042891 & X0.193369 & X0.259702 & X0.238029 & X0.288670 & X0.088480 & X0.015798 & X0.208414 & X.1\\\\\n",
       "\\hline\n",
       "\t 1        & 0.075217 & 0.220267 & 0.313818 & 0.047938 & 0.287715 & 0.124056 & 0.174504 & 0.000452 & 0.30716  & 0.161264 & 1       \\\\\n",
       "\\end{tabular}\n"
      ],
      "text/markdown": [
       "\n",
       "| X1.000000 | X0.093868 | X0.161024 | X0.042891 | X0.193369 | X0.259702 | X0.238029 | X0.288670 | X0.088480 | X0.015798 | X0.208414 | X.1 |\n",
       "|---|---|---|---|---|---|---|---|---|---|---|---|\n",
       "| 1        | 0.075217 | 0.220267 | 0.313818 | 0.047938 | 0.287715 | 0.124056 | 0.174504 | 0.000452 | 0.30716  | 0.161264 | 1        |\n",
       "\n"
      ],
      "text/plain": [
       "  X1.000000 X0.093868 X0.161024 X0.042891 X0.193369 X0.259702 X0.238029\n",
       "1 1         0.075217  0.220267  0.313818  0.047938  0.287715  0.124056 \n",
       "  X0.288670 X0.088480 X0.015798 X0.208414 X.1\n",
       "1 0.174504  0.000452  0.30716   0.161264  1  "
      ]
     },
     "metadata": {},
     "output_type": "display_data"
    }
   ],
   "source": [
    "hyperplane[1:1,]"
   ]
  },
  {
   "cell_type": "code",
   "execution_count": 47,
   "metadata": {},
   "outputs": [],
   "source": [
    "get_data_batch <- function(data, batch_size, iteration){\n",
    "    n <- dim(data)[1]\n",
    "    end_of_data <- FALSE\n",
    "    \n",
    "    beginning <- (iteration - 1) * batch_size + 1\n",
    "    if(beginning > n){\n",
    "        stop(\"Data batch indices exceed limits.\")\n",
    "    }\n",
    "    \n",
    "    end <- iteration * batch_size\n",
    "    if (end >= n){\n",
    "        end <- n\n",
    "        end_of_data <- TRUE\n",
    "    }\n",
    "    \n",
    "    return(list(\"batch\" = data[beginning:end,], \"end\" = end_of_data))\n",
    "}"
   ]
  },
  {
   "cell_type": "code",
   "execution_count": null,
   "metadata": {},
   "outputs": [],
   "source": [
    "data_end <- FALSE\n",
    "iteration <- 1\n",
    "batch_size <- 5\n",
    "while(!data_end){\n",
    "    data_batch <- get_data_batch(hyperplane, batch_size, iteration)\n",
    "    data_end <- data_batch$end\n",
    "}\n",
    "print(data_batch)"
   ]
  },
  {
   "cell_type": "code",
   "execution_count": null,
   "metadata": {},
   "outputs": [],
   "source": []
  }
 ],
 "metadata": {
  "kernelspec": {
   "display_name": "R",
   "language": "R",
   "name": "ir"
  },
  "language_info": {
   "codemirror_mode": "r",
   "file_extension": ".r",
   "mimetype": "text/x-r-source",
   "name": "R",
   "pygments_lexer": "r",
   "version": "3.6.1"
  }
 },
 "nbformat": 4,
 "nbformat_minor": 2
}
